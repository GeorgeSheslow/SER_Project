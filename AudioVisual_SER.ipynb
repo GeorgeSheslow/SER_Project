{
  "nbformat": 4,
  "nbformat_minor": 0,
  "metadata": {
    "colab": {
      "provenance": [],
      "gpuType": "T4"
    },
    "kernelspec": {
      "name": "python3",
      "display_name": "Python 3"
    },
    "language_info": {
      "name": "python"
    },
    "accelerator": "GPU"
  },
  "cells": [
    {
      "cell_type": "code",
      "execution_count": 1,
      "metadata": {
        "colab": {
          "base_uri": "https://localhost:8080/"
        },
        "id": "dPyuXFrBOao8",
        "outputId": "1b9074c6-e36b-470a-9876-f67967469746"
      },
      "outputs": [
        {
          "output_type": "stream",
          "name": "stdout",
          "text": [
            "Cloning into 'MMADFER'...\n",
            "remote: Enumerating objects: 118, done.\u001b[K\n",
            "remote: Counting objects: 100% (118/118), done.\u001b[K\n",
            "remote: Compressing objects: 100% (94/94), done.\u001b[K\n",
            "remote: Total 118 (delta 43), reused 86 (delta 24), pack-reused 0 (from 0)\u001b[K\n",
            "Receiving objects: 100% (118/118), 1.77 MiB | 6.09 MiB/s, done.\n",
            "Resolving deltas: 100% (43/43), done.\n"
          ]
        }
      ],
      "source": [
        "! git clone https://github.com/katerynaCh/MMA-DFER.git MMADFER"
      ]
    },
    {
      "cell_type": "code",
      "source": [
        "! mv MMADFER/* ./"
      ],
      "metadata": {
        "id": "8R691F-HRHgL"
      },
      "execution_count": 2,
      "outputs": []
    },
    {
      "cell_type": "code",
      "source": [
        "! pip install -r requirements.txt"
      ],
      "metadata": {
        "colab": {
          "base_uri": "https://localhost:8080/",
          "height": 1000
        },
        "id": "Q2qAj5EnPey6",
        "outputId": "76738200-780f-4648-aeed-05e4d6c1c1f1"
      },
      "execution_count": 3,
      "outputs": [
        {
          "output_type": "stream",
          "name": "stdout",
          "text": [
            "Collecting einops==0.7.0 (from -r requirements.txt (line 1))\n",
            "  Downloading einops-0.7.0-py3-none-any.whl.metadata (13 kB)\n",
            "Collecting librosa==0.10.1 (from -r requirements.txt (line 2))\n",
            "  Downloading librosa-0.10.1-py3-none-any.whl.metadata (8.3 kB)\n",
            "Collecting matplotlib==3.8.3 (from -r requirements.txt (line 3))\n",
            "  Downloading matplotlib-3.8.3-cp310-cp310-manylinux_2_17_x86_64.manylinux2014_x86_64.whl.metadata (5.8 kB)\n",
            "Collecting numpy==1.25.2 (from -r requirements.txt (line 4))\n",
            "  Downloading numpy-1.25.2-cp310-cp310-manylinux_2_17_x86_64.manylinux2014_x86_64.whl.metadata (5.6 kB)\n",
            "Collecting pillow==10.2.0 (from -r requirements.txt (line 5))\n",
            "  Downloading pillow-10.2.0-cp310-cp310-manylinux_2_28_x86_64.whl.metadata (9.7 kB)\n",
            "Collecting safetensors==0.4.2 (from -r requirements.txt (line 6))\n",
            "  Downloading safetensors-0.4.2-cp310-cp310-manylinux_2_17_x86_64.manylinux2014_x86_64.whl.metadata (3.8 kB)\n",
            "Collecting scikit-learn==1.4.1.post1 (from -r requirements.txt (line 7))\n",
            "  Downloading scikit_learn-1.4.1.post1-cp310-cp310-manylinux_2_17_x86_64.manylinux2014_x86_64.whl.metadata (11 kB)\n",
            "Collecting scipy==1.12.0 (from -r requirements.txt (line 8))\n",
            "  Downloading scipy-1.12.0-cp310-cp310-manylinux_2_17_x86_64.manylinux2014_x86_64.whl.metadata (60 kB)\n",
            "\u001b[2K     \u001b[90m━━━━━━━━━━━━━━━━━━━━━━━━━━━━━━━━━━━━━━━━\u001b[0m \u001b[32m60.4/60.4 kB\u001b[0m \u001b[31m1.7 MB/s\u001b[0m eta \u001b[36m0:00:00\u001b[0m\n",
            "\u001b[?25hRequirement already satisfied: soundfile==0.12.1 in /usr/local/lib/python3.10/dist-packages (from -r requirements.txt (line 9)) (0.12.1)\n",
            "Collecting timm==0.9.16 (from -r requirements.txt (line 10))\n",
            "  Downloading timm-0.9.16-py3-none-any.whl.metadata (38 kB)\n",
            "Collecting torch==2.2.0 (from -r requirements.txt (line 11))\n",
            "  Downloading torch-2.2.0-cp310-cp310-manylinux1_x86_64.whl.metadata (25 kB)\n",
            "Collecting torchaudio==2.2.0 (from -r requirements.txt (line 12))\n",
            "  Downloading torchaudio-2.2.0-cp310-cp310-manylinux1_x86_64.whl.metadata (6.4 kB)\n",
            "Collecting torchvision==0.17.0 (from -r requirements.txt (line 13))\n",
            "  Downloading torchvision-0.17.0-cp310-cp310-manylinux1_x86_64.whl.metadata (6.6 kB)\n",
            "Collecting tqdm==4.66.2 (from -r requirements.txt (line 14))\n",
            "  Downloading tqdm-4.66.2-py3-none-any.whl.metadata (57 kB)\n",
            "\u001b[2K     \u001b[90m━━━━━━━━━━━━━━━━━━━━━━━━━━━━━━━━━━━━━━━━\u001b[0m \u001b[32m57.6/57.6 kB\u001b[0m \u001b[31m3.1 MB/s\u001b[0m eta \u001b[36m0:00:00\u001b[0m\n",
            "\u001b[?25hCollecting urllib3==2.0.4 (from -r requirements.txt (line 15))\n",
            "  Downloading urllib3-2.0.4-py3-none-any.whl.metadata (6.6 kB)\n",
            "Requirement already satisfied: audioread>=2.1.9 in /usr/local/lib/python3.10/dist-packages (from librosa==0.10.1->-r requirements.txt (line 2)) (3.0.1)\n",
            "Requirement already satisfied: joblib>=0.14 in /usr/local/lib/python3.10/dist-packages (from librosa==0.10.1->-r requirements.txt (line 2)) (1.4.2)\n",
            "Requirement already satisfied: decorator>=4.3.0 in /usr/local/lib/python3.10/dist-packages (from librosa==0.10.1->-r requirements.txt (line 2)) (4.4.2)\n",
            "Requirement already satisfied: numba>=0.51.0 in /usr/local/lib/python3.10/dist-packages (from librosa==0.10.1->-r requirements.txt (line 2)) (0.60.0)\n",
            "Requirement already satisfied: pooch>=1.0 in /usr/local/lib/python3.10/dist-packages (from librosa==0.10.1->-r requirements.txt (line 2)) (1.8.2)\n",
            "Requirement already satisfied: soxr>=0.3.2 in /usr/local/lib/python3.10/dist-packages (from librosa==0.10.1->-r requirements.txt (line 2)) (0.5.0.post1)\n",
            "Requirement already satisfied: typing-extensions>=4.1.1 in /usr/local/lib/python3.10/dist-packages (from librosa==0.10.1->-r requirements.txt (line 2)) (4.12.2)\n",
            "Requirement already satisfied: lazy-loader>=0.1 in /usr/local/lib/python3.10/dist-packages (from librosa==0.10.1->-r requirements.txt (line 2)) (0.4)\n",
            "Requirement already satisfied: msgpack>=1.0 in /usr/local/lib/python3.10/dist-packages (from librosa==0.10.1->-r requirements.txt (line 2)) (1.1.0)\n",
            "Requirement already satisfied: contourpy>=1.0.1 in /usr/local/lib/python3.10/dist-packages (from matplotlib==3.8.3->-r requirements.txt (line 3)) (1.3.0)\n",
            "Requirement already satisfied: cycler>=0.10 in /usr/local/lib/python3.10/dist-packages (from matplotlib==3.8.3->-r requirements.txt (line 3)) (0.12.1)\n",
            "Requirement already satisfied: fonttools>=4.22.0 in /usr/local/lib/python3.10/dist-packages (from matplotlib==3.8.3->-r requirements.txt (line 3)) (4.54.1)\n",
            "Requirement already satisfied: kiwisolver>=1.3.1 in /usr/local/lib/python3.10/dist-packages (from matplotlib==3.8.3->-r requirements.txt (line 3)) (1.4.7)\n",
            "Requirement already satisfied: packaging>=20.0 in /usr/local/lib/python3.10/dist-packages (from matplotlib==3.8.3->-r requirements.txt (line 3)) (24.1)\n",
            "Requirement already satisfied: pyparsing>=2.3.1 in /usr/local/lib/python3.10/dist-packages (from matplotlib==3.8.3->-r requirements.txt (line 3)) (3.2.0)\n",
            "Requirement already satisfied: python-dateutil>=2.7 in /usr/local/lib/python3.10/dist-packages (from matplotlib==3.8.3->-r requirements.txt (line 3)) (2.8.2)\n",
            "Requirement already satisfied: threadpoolctl>=2.0.0 in /usr/local/lib/python3.10/dist-packages (from scikit-learn==1.4.1.post1->-r requirements.txt (line 7)) (3.5.0)\n",
            "Requirement already satisfied: cffi>=1.0 in /usr/local/lib/python3.10/dist-packages (from soundfile==0.12.1->-r requirements.txt (line 9)) (1.17.1)\n",
            "Requirement already satisfied: pyyaml in /usr/local/lib/python3.10/dist-packages (from timm==0.9.16->-r requirements.txt (line 10)) (6.0.2)\n",
            "Requirement already satisfied: huggingface_hub in /usr/local/lib/python3.10/dist-packages (from timm==0.9.16->-r requirements.txt (line 10)) (0.24.7)\n",
            "Requirement already satisfied: filelock in /usr/local/lib/python3.10/dist-packages (from torch==2.2.0->-r requirements.txt (line 11)) (3.16.1)\n",
            "Requirement already satisfied: sympy in /usr/local/lib/python3.10/dist-packages (from torch==2.2.0->-r requirements.txt (line 11)) (1.13.1)\n",
            "Requirement already satisfied: networkx in /usr/local/lib/python3.10/dist-packages (from torch==2.2.0->-r requirements.txt (line 11)) (3.4.2)\n",
            "Requirement already satisfied: jinja2 in /usr/local/lib/python3.10/dist-packages (from torch==2.2.0->-r requirements.txt (line 11)) (3.1.4)\n",
            "Requirement already satisfied: fsspec in /usr/local/lib/python3.10/dist-packages (from torch==2.2.0->-r requirements.txt (line 11)) (2024.10.0)\n",
            "Collecting nvidia-cuda-nvrtc-cu12==12.1.105 (from torch==2.2.0->-r requirements.txt (line 11))\n",
            "  Downloading nvidia_cuda_nvrtc_cu12-12.1.105-py3-none-manylinux1_x86_64.whl.metadata (1.5 kB)\n",
            "Collecting nvidia-cuda-runtime-cu12==12.1.105 (from torch==2.2.0->-r requirements.txt (line 11))\n",
            "  Downloading nvidia_cuda_runtime_cu12-12.1.105-py3-none-manylinux1_x86_64.whl.metadata (1.5 kB)\n",
            "Collecting nvidia-cuda-cupti-cu12==12.1.105 (from torch==2.2.0->-r requirements.txt (line 11))\n",
            "  Downloading nvidia_cuda_cupti_cu12-12.1.105-py3-none-manylinux1_x86_64.whl.metadata (1.6 kB)\n",
            "Collecting nvidia-cudnn-cu12==8.9.2.26 (from torch==2.2.0->-r requirements.txt (line 11))\n",
            "  Downloading nvidia_cudnn_cu12-8.9.2.26-py3-none-manylinux1_x86_64.whl.metadata (1.6 kB)\n",
            "Collecting nvidia-cublas-cu12==12.1.3.1 (from torch==2.2.0->-r requirements.txt (line 11))\n",
            "  Downloading nvidia_cublas_cu12-12.1.3.1-py3-none-manylinux1_x86_64.whl.metadata (1.5 kB)\n",
            "Collecting nvidia-cufft-cu12==11.0.2.54 (from torch==2.2.0->-r requirements.txt (line 11))\n",
            "  Downloading nvidia_cufft_cu12-11.0.2.54-py3-none-manylinux1_x86_64.whl.metadata (1.5 kB)\n",
            "Collecting nvidia-curand-cu12==10.3.2.106 (from torch==2.2.0->-r requirements.txt (line 11))\n",
            "  Downloading nvidia_curand_cu12-10.3.2.106-py3-none-manylinux1_x86_64.whl.metadata (1.5 kB)\n",
            "Collecting nvidia-cusolver-cu12==11.4.5.107 (from torch==2.2.0->-r requirements.txt (line 11))\n",
            "  Downloading nvidia_cusolver_cu12-11.4.5.107-py3-none-manylinux1_x86_64.whl.metadata (1.6 kB)\n",
            "Collecting nvidia-cusparse-cu12==12.1.0.106 (from torch==2.2.0->-r requirements.txt (line 11))\n",
            "  Downloading nvidia_cusparse_cu12-12.1.0.106-py3-none-manylinux1_x86_64.whl.metadata (1.6 kB)\n",
            "Collecting nvidia-nccl-cu12==2.19.3 (from torch==2.2.0->-r requirements.txt (line 11))\n",
            "  Downloading nvidia_nccl_cu12-2.19.3-py3-none-manylinux1_x86_64.whl.metadata (1.8 kB)\n",
            "Collecting nvidia-nvtx-cu12==12.1.105 (from torch==2.2.0->-r requirements.txt (line 11))\n",
            "  Downloading nvidia_nvtx_cu12-12.1.105-py3-none-manylinux1_x86_64.whl.metadata (1.7 kB)\n",
            "Collecting triton==2.2.0 (from torch==2.2.0->-r requirements.txt (line 11))\n",
            "  Downloading triton-2.2.0-cp310-cp310-manylinux_2_17_x86_64.manylinux2014_x86_64.whl.metadata (1.4 kB)\n",
            "Requirement already satisfied: requests in /usr/local/lib/python3.10/dist-packages (from torchvision==0.17.0->-r requirements.txt (line 13)) (2.32.3)\n",
            "Requirement already satisfied: nvidia-nvjitlink-cu12 in /usr/local/lib/python3.10/dist-packages (from nvidia-cusolver-cu12==11.4.5.107->torch==2.2.0->-r requirements.txt (line 11)) (12.6.77)\n",
            "Requirement already satisfied: pycparser in /usr/local/lib/python3.10/dist-packages (from cffi>=1.0->soundfile==0.12.1->-r requirements.txt (line 9)) (2.22)\n",
            "Requirement already satisfied: llvmlite<0.44,>=0.43.0dev0 in /usr/local/lib/python3.10/dist-packages (from numba>=0.51.0->librosa==0.10.1->-r requirements.txt (line 2)) (0.43.0)\n",
            "Requirement already satisfied: platformdirs>=2.5.0 in /usr/local/lib/python3.10/dist-packages (from pooch>=1.0->librosa==0.10.1->-r requirements.txt (line 2)) (4.3.6)\n",
            "Requirement already satisfied: six>=1.5 in /usr/local/lib/python3.10/dist-packages (from python-dateutil>=2.7->matplotlib==3.8.3->-r requirements.txt (line 3)) (1.16.0)\n",
            "Requirement already satisfied: charset-normalizer<4,>=2 in /usr/local/lib/python3.10/dist-packages (from requests->torchvision==0.17.0->-r requirements.txt (line 13)) (3.4.0)\n",
            "Requirement already satisfied: idna<4,>=2.5 in /usr/local/lib/python3.10/dist-packages (from requests->torchvision==0.17.0->-r requirements.txt (line 13)) (3.10)\n",
            "Requirement already satisfied: certifi>=2017.4.17 in /usr/local/lib/python3.10/dist-packages (from requests->torchvision==0.17.0->-r requirements.txt (line 13)) (2024.8.30)\n",
            "Requirement already satisfied: MarkupSafe>=2.0 in /usr/local/lib/python3.10/dist-packages (from jinja2->torch==2.2.0->-r requirements.txt (line 11)) (3.0.2)\n",
            "Requirement already satisfied: mpmath<1.4,>=1.1.0 in /usr/local/lib/python3.10/dist-packages (from sympy->torch==2.2.0->-r requirements.txt (line 11)) (1.3.0)\n",
            "Downloading einops-0.7.0-py3-none-any.whl (44 kB)\n",
            "\u001b[2K   \u001b[90m━━━━━━━━━━━━━━━━━━━━━━━━━━━━━━━━━━━━━━━━\u001b[0m \u001b[32m44.6/44.6 kB\u001b[0m \u001b[31m1.2 MB/s\u001b[0m eta \u001b[36m0:00:00\u001b[0m\n",
            "\u001b[?25hDownloading librosa-0.10.1-py3-none-any.whl (253 kB)\n",
            "\u001b[2K   \u001b[90m━━━━━━━━━━━━━━━━━━━━━━━━━━━━━━━━━━━━━━━━\u001b[0m \u001b[32m253.7/253.7 kB\u001b[0m \u001b[31m15.1 MB/s\u001b[0m eta \u001b[36m0:00:00\u001b[0m\n",
            "\u001b[?25hDownloading matplotlib-3.8.3-cp310-cp310-manylinux_2_17_x86_64.manylinux2014_x86_64.whl (11.6 MB)\n",
            "\u001b[2K   \u001b[90m━━━━━━━━━━━━━━━━━━━━━━━━━━━━━━━━━━━━━━━━\u001b[0m \u001b[32m11.6/11.6 MB\u001b[0m \u001b[31m37.2 MB/s\u001b[0m eta \u001b[36m0:00:00\u001b[0m\n",
            "\u001b[?25hDownloading numpy-1.25.2-cp310-cp310-manylinux_2_17_x86_64.manylinux2014_x86_64.whl (18.2 MB)\n",
            "\u001b[2K   \u001b[90m━━━━━━━━━━━━━━━━━━━━━━━━━━━━━━━━━━━━━━━━\u001b[0m \u001b[32m18.2/18.2 MB\u001b[0m \u001b[31m32.1 MB/s\u001b[0m eta \u001b[36m0:00:00\u001b[0m\n",
            "\u001b[?25hDownloading pillow-10.2.0-cp310-cp310-manylinux_2_28_x86_64.whl (4.5 MB)\n",
            "\u001b[2K   \u001b[90m━━━━━━━━━━━━━━━━━━━━━━━━━━━━━━━━━━━━━━━━\u001b[0m \u001b[32m4.5/4.5 MB\u001b[0m \u001b[31m44.1 MB/s\u001b[0m eta \u001b[36m0:00:00\u001b[0m\n",
            "\u001b[?25hDownloading safetensors-0.4.2-cp310-cp310-manylinux_2_17_x86_64.manylinux2014_x86_64.whl (1.3 MB)\n",
            "\u001b[2K   \u001b[90m━━━━━━━━━━━━━━━━━━━━━━━━━━━━━━━━━━━━━━━━\u001b[0m \u001b[32m1.3/1.3 MB\u001b[0m \u001b[31m19.7 MB/s\u001b[0m eta \u001b[36m0:00:00\u001b[0m\n",
            "\u001b[?25hDownloading scikit_learn-1.4.1.post1-cp310-cp310-manylinux_2_17_x86_64.manylinux2014_x86_64.whl (12.1 MB)\n",
            "\u001b[2K   \u001b[90m━━━━━━━━━━━━━━━━━━━━━━━━━━━━━━━━━━━━━━━━\u001b[0m \u001b[32m12.1/12.1 MB\u001b[0m \u001b[31m74.3 MB/s\u001b[0m eta \u001b[36m0:00:00\u001b[0m\n",
            "\u001b[?25hDownloading scipy-1.12.0-cp310-cp310-manylinux_2_17_x86_64.manylinux2014_x86_64.whl (38.4 MB)\n",
            "\u001b[2K   \u001b[90m━━━━━━━━━━━━━━━━━━━━━━━━━━━━━━━━━━━━━━━━\u001b[0m \u001b[32m38.4/38.4 MB\u001b[0m \u001b[31m13.1 MB/s\u001b[0m eta \u001b[36m0:00:00\u001b[0m\n",
            "\u001b[?25hDownloading timm-0.9.16-py3-none-any.whl (2.2 MB)\n",
            "\u001b[2K   \u001b[90m━━━━━━━━━━━━━━━━━━━━━━━━━━━━━━━━━━━━━━━━\u001b[0m \u001b[32m2.2/2.2 MB\u001b[0m \u001b[31m80.8 MB/s\u001b[0m eta \u001b[36m0:00:00\u001b[0m\n",
            "\u001b[?25hDownloading torch-2.2.0-cp310-cp310-manylinux1_x86_64.whl (755.5 MB)\n",
            "\u001b[2K   \u001b[90m━━━━━━━━━━━━━━━━━━━━━━━━━━━━━━━━━━━━━━━━\u001b[0m \u001b[32m755.5/755.5 MB\u001b[0m \u001b[31m1.3 MB/s\u001b[0m eta \u001b[36m0:00:00\u001b[0m\n",
            "\u001b[?25hDownloading torchaudio-2.2.0-cp310-cp310-manylinux1_x86_64.whl (3.3 MB)\n",
            "\u001b[2K   \u001b[90m━━━━━━━━━━━━━━━━━━━━━━━━━━━━━━━━━━━━━━━━\u001b[0m \u001b[32m3.3/3.3 MB\u001b[0m \u001b[31m89.3 MB/s\u001b[0m eta \u001b[36m0:00:00\u001b[0m\n",
            "\u001b[?25hDownloading torchvision-0.17.0-cp310-cp310-manylinux1_x86_64.whl (6.9 MB)\n",
            "\u001b[2K   \u001b[90m━━━━━━━━━━━━━━━━━━━━━━━━━━━━━━━━━━━━━━━━\u001b[0m \u001b[32m6.9/6.9 MB\u001b[0m \u001b[31m108.0 MB/s\u001b[0m eta \u001b[36m0:00:00\u001b[0m\n",
            "\u001b[?25hDownloading tqdm-4.66.2-py3-none-any.whl (78 kB)\n",
            "\u001b[2K   \u001b[90m━━━━━━━━━━━━━━━━━━━━━━━━━━━━━━━━━━━━━━━━\u001b[0m \u001b[32m78.3/78.3 kB\u001b[0m \u001b[31m7.1 MB/s\u001b[0m eta \u001b[36m0:00:00\u001b[0m\n",
            "\u001b[?25hDownloading urllib3-2.0.4-py3-none-any.whl (123 kB)\n",
            "\u001b[2K   \u001b[90m━━━━━━━━━━━━━━━━━━━━━━━━━━━━━━━━━━━━━━━━\u001b[0m \u001b[32m123.9/123.9 kB\u001b[0m \u001b[31m11.8 MB/s\u001b[0m eta \u001b[36m0:00:00\u001b[0m\n",
            "\u001b[?25hDownloading nvidia_cublas_cu12-12.1.3.1-py3-none-manylinux1_x86_64.whl (410.6 MB)\n",
            "\u001b[2K   \u001b[90m━━━━━━━━━━━━━━━━━━━━━━━━━━━━━━━━━━━━━━━━\u001b[0m \u001b[32m410.6/410.6 MB\u001b[0m \u001b[31m4.4 MB/s\u001b[0m eta \u001b[36m0:00:00\u001b[0m\n",
            "\u001b[?25hDownloading nvidia_cuda_cupti_cu12-12.1.105-py3-none-manylinux1_x86_64.whl (14.1 MB)\n",
            "\u001b[2K   \u001b[90m━━━━━━━━━━━━━━━━━━━━━━━━━━━━━━━━━━━━━━━━\u001b[0m \u001b[32m14.1/14.1 MB\u001b[0m \u001b[31m97.2 MB/s\u001b[0m eta \u001b[36m0:00:00\u001b[0m\n",
            "\u001b[?25hDownloading nvidia_cuda_nvrtc_cu12-12.1.105-py3-none-manylinux1_x86_64.whl (23.7 MB)\n",
            "\u001b[2K   \u001b[90m━━━━━━━━━━━━━━━━━━━━━━━━━━━━━━━━━━━━━━━━\u001b[0m \u001b[32m23.7/23.7 MB\u001b[0m \u001b[31m79.2 MB/s\u001b[0m eta \u001b[36m0:00:00\u001b[0m\n",
            "\u001b[?25hDownloading nvidia_cuda_runtime_cu12-12.1.105-py3-none-manylinux1_x86_64.whl (823 kB)\n",
            "\u001b[2K   \u001b[90m━━━━━━━━━━━━━━━━━━━━━━━━━━━━━━━━━━━━━━━━\u001b[0m \u001b[32m823.6/823.6 kB\u001b[0m \u001b[31m57.7 MB/s\u001b[0m eta \u001b[36m0:00:00\u001b[0m\n",
            "\u001b[?25hDownloading nvidia_cudnn_cu12-8.9.2.26-py3-none-manylinux1_x86_64.whl (731.7 MB)\n",
            "\u001b[2K   \u001b[90m━━━━━━━━━━━━━━━━━━━━━━━━━━━━━━━━━━━━━━━━\u001b[0m \u001b[32m731.7/731.7 MB\u001b[0m \u001b[31m2.7 MB/s\u001b[0m eta \u001b[36m0:00:00\u001b[0m\n",
            "\u001b[?25hDownloading nvidia_cufft_cu12-11.0.2.54-py3-none-manylinux1_x86_64.whl (121.6 MB)\n",
            "\u001b[2K   \u001b[90m━━━━━━━━━━━━━━━━━━━━━━━━━━━━━━━━━━━━━━━━\u001b[0m \u001b[32m121.6/121.6 MB\u001b[0m \u001b[31m7.6 MB/s\u001b[0m eta \u001b[36m0:00:00\u001b[0m\n",
            "\u001b[?25hDownloading nvidia_curand_cu12-10.3.2.106-py3-none-manylinux1_x86_64.whl (56.5 MB)\n",
            "\u001b[2K   \u001b[90m━━━━━━━━━━━━━━━━━━━━━━━━━━━━━━━━━━━━━━━━\u001b[0m \u001b[32m56.5/56.5 MB\u001b[0m \u001b[31m12.8 MB/s\u001b[0m eta \u001b[36m0:00:00\u001b[0m\n",
            "\u001b[?25hDownloading nvidia_cusolver_cu12-11.4.5.107-py3-none-manylinux1_x86_64.whl (124.2 MB)\n",
            "\u001b[2K   \u001b[90m━━━━━━━━━━━━━━━━━━━━━━━━━━━━━━━━━━━━━━━━\u001b[0m \u001b[32m124.2/124.2 MB\u001b[0m \u001b[31m8.0 MB/s\u001b[0m eta \u001b[36m0:00:00\u001b[0m\n",
            "\u001b[?25hDownloading nvidia_cusparse_cu12-12.1.0.106-py3-none-manylinux1_x86_64.whl (196.0 MB)\n",
            "\u001b[2K   \u001b[90m━━━━━━━━━━━━━━━━━━━━━━━━━━━━━━━━━━━━━━━━\u001b[0m \u001b[32m196.0/196.0 MB\u001b[0m \u001b[31m6.2 MB/s\u001b[0m eta \u001b[36m0:00:00\u001b[0m\n",
            "\u001b[?25hDownloading nvidia_nccl_cu12-2.19.3-py3-none-manylinux1_x86_64.whl (166.0 MB)\n",
            "\u001b[2K   \u001b[90m━━━━━━━━━━━━━━━━━━━━━━━━━━━━━━━━━━━━━━━━\u001b[0m \u001b[32m166.0/166.0 MB\u001b[0m \u001b[31m6.9 MB/s\u001b[0m eta \u001b[36m0:00:00\u001b[0m\n",
            "\u001b[?25hDownloading nvidia_nvtx_cu12-12.1.105-py3-none-manylinux1_x86_64.whl (99 kB)\n",
            "\u001b[2K   \u001b[90m━━━━━━━━━━━━━━━━━━━━━━━━━━━━━━━━━━━━━━━━\u001b[0m \u001b[32m99.1/99.1 kB\u001b[0m \u001b[31m8.6 MB/s\u001b[0m eta \u001b[36m0:00:00\u001b[0m\n",
            "\u001b[?25hDownloading triton-2.2.0-cp310-cp310-manylinux_2_17_x86_64.manylinux2014_x86_64.whl (167.9 MB)\n",
            "\u001b[2K   \u001b[90m━━━━━━━━━━━━━━━━━━━━━━━━━━━━━━━━━━━━━━━━\u001b[0m \u001b[32m167.9/167.9 MB\u001b[0m \u001b[31m7.0 MB/s\u001b[0m eta \u001b[36m0:00:00\u001b[0m\n",
            "\u001b[?25hInstalling collected packages: urllib3, triton, tqdm, safetensors, pillow, nvidia-nvtx-cu12, nvidia-nccl-cu12, nvidia-cusparse-cu12, nvidia-curand-cu12, nvidia-cufft-cu12, nvidia-cuda-runtime-cu12, nvidia-cuda-nvrtc-cu12, nvidia-cuda-cupti-cu12, nvidia-cublas-cu12, numpy, einops, scipy, nvidia-cusolver-cu12, nvidia-cudnn-cu12, torch, scikit-learn, matplotlib, torchvision, torchaudio, librosa, timm\n",
            "  Attempting uninstall: urllib3\n",
            "    Found existing installation: urllib3 2.2.3\n",
            "    Uninstalling urllib3-2.2.3:\n",
            "      Successfully uninstalled urllib3-2.2.3\n",
            "  Attempting uninstall: tqdm\n",
            "    Found existing installation: tqdm 4.66.6\n",
            "    Uninstalling tqdm-4.66.6:\n",
            "      Successfully uninstalled tqdm-4.66.6\n",
            "  Attempting uninstall: safetensors\n",
            "    Found existing installation: safetensors 0.4.5\n",
            "    Uninstalling safetensors-0.4.5:\n",
            "      Successfully uninstalled safetensors-0.4.5\n",
            "  Attempting uninstall: pillow\n",
            "    Found existing installation: pillow 10.4.0\n",
            "    Uninstalling pillow-10.4.0:\n",
            "      Successfully uninstalled pillow-10.4.0\n",
            "  Attempting uninstall: nvidia-nccl-cu12\n",
            "    Found existing installation: nvidia-nccl-cu12 2.23.4\n",
            "    Uninstalling nvidia-nccl-cu12-2.23.4:\n",
            "      Successfully uninstalled nvidia-nccl-cu12-2.23.4\n",
            "  Attempting uninstall: nvidia-cusparse-cu12\n",
            "    Found existing installation: nvidia-cusparse-cu12 12.5.4.2\n",
            "    Uninstalling nvidia-cusparse-cu12-12.5.4.2:\n",
            "      Successfully uninstalled nvidia-cusparse-cu12-12.5.4.2\n",
            "  Attempting uninstall: nvidia-curand-cu12\n",
            "    Found existing installation: nvidia-curand-cu12 10.3.7.77\n",
            "    Uninstalling nvidia-curand-cu12-10.3.7.77:\n",
            "      Successfully uninstalled nvidia-curand-cu12-10.3.7.77\n",
            "  Attempting uninstall: nvidia-cufft-cu12\n",
            "    Found existing installation: nvidia-cufft-cu12 11.3.0.4\n",
            "    Uninstalling nvidia-cufft-cu12-11.3.0.4:\n",
            "      Successfully uninstalled nvidia-cufft-cu12-11.3.0.4\n",
            "  Attempting uninstall: nvidia-cuda-runtime-cu12\n",
            "    Found existing installation: nvidia-cuda-runtime-cu12 12.6.77\n",
            "    Uninstalling nvidia-cuda-runtime-cu12-12.6.77:\n",
            "      Successfully uninstalled nvidia-cuda-runtime-cu12-12.6.77\n",
            "  Attempting uninstall: nvidia-cuda-cupti-cu12\n",
            "    Found existing installation: nvidia-cuda-cupti-cu12 12.6.80\n",
            "    Uninstalling nvidia-cuda-cupti-cu12-12.6.80:\n",
            "      Successfully uninstalled nvidia-cuda-cupti-cu12-12.6.80\n",
            "  Attempting uninstall: nvidia-cublas-cu12\n",
            "    Found existing installation: nvidia-cublas-cu12 12.6.3.3\n",
            "    Uninstalling nvidia-cublas-cu12-12.6.3.3:\n",
            "      Successfully uninstalled nvidia-cublas-cu12-12.6.3.3\n",
            "  Attempting uninstall: numpy\n",
            "    Found existing installation: numpy 1.26.4\n",
            "    Uninstalling numpy-1.26.4:\n",
            "      Successfully uninstalled numpy-1.26.4\n",
            "  Attempting uninstall: einops\n",
            "    Found existing installation: einops 0.8.0\n",
            "    Uninstalling einops-0.8.0:\n",
            "      Successfully uninstalled einops-0.8.0\n",
            "  Attempting uninstall: scipy\n",
            "    Found existing installation: scipy 1.13.1\n",
            "    Uninstalling scipy-1.13.1:\n",
            "      Successfully uninstalled scipy-1.13.1\n",
            "  Attempting uninstall: nvidia-cusolver-cu12\n",
            "    Found existing installation: nvidia-cusolver-cu12 11.7.1.2\n",
            "    Uninstalling nvidia-cusolver-cu12-11.7.1.2:\n",
            "      Successfully uninstalled nvidia-cusolver-cu12-11.7.1.2\n",
            "  Attempting uninstall: nvidia-cudnn-cu12\n",
            "    Found existing installation: nvidia-cudnn-cu12 9.5.1.17\n",
            "    Uninstalling nvidia-cudnn-cu12-9.5.1.17:\n",
            "      Successfully uninstalled nvidia-cudnn-cu12-9.5.1.17\n",
            "  Attempting uninstall: torch\n",
            "    Found existing installation: torch 2.5.0+cu121\n",
            "    Uninstalling torch-2.5.0+cu121:\n",
            "      Successfully uninstalled torch-2.5.0+cu121\n",
            "  Attempting uninstall: scikit-learn\n",
            "    Found existing installation: scikit-learn 1.5.2\n",
            "    Uninstalling scikit-learn-1.5.2:\n",
            "      Successfully uninstalled scikit-learn-1.5.2\n",
            "  Attempting uninstall: matplotlib\n",
            "    Found existing installation: matplotlib 3.8.0\n",
            "    Uninstalling matplotlib-3.8.0:\n",
            "      Successfully uninstalled matplotlib-3.8.0\n",
            "  Attempting uninstall: torchvision\n",
            "    Found existing installation: torchvision 0.20.0+cu121\n",
            "    Uninstalling torchvision-0.20.0+cu121:\n",
            "      Successfully uninstalled torchvision-0.20.0+cu121\n",
            "  Attempting uninstall: torchaudio\n",
            "    Found existing installation: torchaudio 2.5.0+cu121\n",
            "    Uninstalling torchaudio-2.5.0+cu121:\n",
            "      Successfully uninstalled torchaudio-2.5.0+cu121\n",
            "  Attempting uninstall: librosa\n",
            "    Found existing installation: librosa 0.10.2.post1\n",
            "    Uninstalling librosa-0.10.2.post1:\n",
            "      Successfully uninstalled librosa-0.10.2.post1\n",
            "  Attempting uninstall: timm\n",
            "    Found existing installation: timm 1.0.11\n",
            "    Uninstalling timm-1.0.11:\n",
            "      Successfully uninstalled timm-1.0.11\n",
            "\u001b[31mERROR: pip's dependency resolver does not currently take into account all the packages that are installed. This behaviour is the source of the following dependency conflicts.\n",
            "accelerate 0.34.2 requires safetensors>=0.4.3, but you have safetensors 0.4.2 which is incompatible.\u001b[0m\u001b[31m\n",
            "\u001b[0mSuccessfully installed einops-0.7.0 librosa-0.10.1 matplotlib-3.8.3 numpy-1.25.2 nvidia-cublas-cu12-12.1.3.1 nvidia-cuda-cupti-cu12-12.1.105 nvidia-cuda-nvrtc-cu12-12.1.105 nvidia-cuda-runtime-cu12-12.1.105 nvidia-cudnn-cu12-8.9.2.26 nvidia-cufft-cu12-11.0.2.54 nvidia-curand-cu12-10.3.2.106 nvidia-cusolver-cu12-11.4.5.107 nvidia-cusparse-cu12-12.1.0.106 nvidia-nccl-cu12-2.19.3 nvidia-nvtx-cu12-12.1.105 pillow-10.2.0 safetensors-0.4.2 scikit-learn-1.4.1.post1 scipy-1.12.0 timm-0.9.16 torch-2.2.0 torchaudio-2.2.0 torchvision-0.17.0 tqdm-4.66.2 triton-2.2.0 urllib3-2.0.4\n"
          ]
        },
        {
          "output_type": "display_data",
          "data": {
            "application/vnd.colab-display-data+json": {
              "pip_warning": {
                "packages": [
                  "PIL",
                  "matplotlib",
                  "mpl_toolkits",
                  "numpy"
                ]
              },
              "id": "7de510a36e334265bc7b817b128c39d9"
            }
          },
          "metadata": {}
        }
      ]
    },
    {
      "cell_type": "code",
      "source": [
        "from google.colab import drive\n",
        "drive.mount('/content/drive')\n",
        "\n",
        "import sys\n",
        "sys.path.append('/content/drive/MyDrive/Odyssey')"
      ],
      "metadata": {
        "id": "BLCBIhP8cqAS",
        "colab": {
          "base_uri": "https://localhost:8080/"
        },
        "outputId": "495975e1-90ca-43bc-8d5d-143ee44d9764"
      },
      "execution_count": 1,
      "outputs": [
        {
          "output_type": "stream",
          "name": "stdout",
          "text": [
            "Mounted at /content/drive\n"
          ]
        }
      ]
    },
    {
      "cell_type": "code",
      "source": [
        "! cp ./drive/MyDrive/Odyssey/audiomae_pretrained.pth ./\n",
        "! cp ./drive/MyDrive/Odyssey/mae_face_pretrain_vit_base.pth ./"
      ],
      "metadata": {
        "id": "mHZhtbf-lB-e"
      },
      "execution_count": 2,
      "outputs": []
    },
    {
      "cell_type": "code",
      "source": [
        "from torch import nn\n",
        "from models.Generate_Model import GenerateModel\n",
        "\n",
        "class defs:\n",
        "    def __init__(self):\n",
        "      self.temporal_layers = 1\n",
        "      self.img_size = 224\n",
        "      self.number_class =8\n",
        "\n",
        "args = defs()\n",
        "model = GenerateModel(args=args).cuda()\n"
      ],
      "metadata": {
        "colab": {
          "base_uri": "https://localhost:8080/"
        },
        "id": "zAQ-rrrWOuH2",
        "outputId": "54068c1a-dca2-4939-8a5f-0d14306af56f"
      },
      "execution_count": 3,
      "outputs": [
        {
          "output_type": "stream",
          "name": "stdout",
          "text": [
            "Image checkpoint loading:  _IncompatibleKeys(missing_keys=['learnable_prompts_init', 'head.weight', 'head.bias', 'learnable_prompts_progr.0', 'learnable_prompts_progr.1', 'audio_proj_pre.0.0.weight', 'audio_proj_pre.0.0.bias', 'audio_proj_pre.0.1.weight', 'audio_proj_pre.0.1.bias', 'audio_proj_pre.1.0.weight', 'audio_proj_pre.1.0.bias', 'audio_proj_pre.1.1.weight', 'audio_proj_pre.1.1.bias', 'audio_proj_pre.2.0.weight', 'audio_proj_pre.2.0.bias', 'audio_proj_pre.2.1.weight', 'audio_proj_pre.2.1.bias', 'audio_proj_pre.3.0.weight', 'audio_proj_pre.3.0.bias', 'audio_proj_pre.3.1.weight', 'audio_proj_pre.3.1.bias', 'audio_proj_pre.4.0.weight', 'audio_proj_pre.4.0.bias', 'audio_proj_pre.4.1.weight', 'audio_proj_pre.4.1.bias', 'audio_proj_pre.5.0.weight', 'audio_proj_pre.5.0.bias', 'audio_proj_pre.5.1.weight', 'audio_proj_pre.5.1.bias', 'audio_proj_pre.6.0.weight', 'audio_proj_pre.6.0.bias', 'audio_proj_pre.6.1.weight', 'audio_proj_pre.6.1.bias', 'audio_proj_pre.7.0.weight', 'audio_proj_pre.7.0.bias', 'audio_proj_pre.7.1.weight', 'audio_proj_pre.7.1.bias', 'audio_proj_pre.8.0.weight', 'audio_proj_pre.8.0.bias', 'audio_proj_pre.8.1.weight', 'audio_proj_pre.8.1.bias', 'audio_proj_pre.9.0.weight', 'audio_proj_pre.9.0.bias', 'audio_proj_pre.9.1.weight', 'audio_proj_pre.9.1.bias', 'audio_proj_pre.10.0.weight', 'audio_proj_pre.10.0.bias', 'audio_proj_pre.10.1.weight', 'audio_proj_pre.10.1.bias', 'audio_proj_pre.11.0.weight', 'audio_proj_pre.11.0.bias', 'audio_proj_pre.11.1.weight', 'audio_proj_pre.11.1.bias', 'temporal_pre.0.weight', 'temporal_pre.0.bias', 'temporal_pre.1.weight', 'temporal_pre.1.bias', 'temporal_pre.2.weight', 'temporal_pre.2.bias', 'temporal_pre.3.weight', 'temporal_pre.3.bias', 'temporal_pre.4.weight', 'temporal_pre.4.bias', 'temporal_pre.5.weight', 'temporal_pre.5.bias', 'temporal_pre.6.weight', 'temporal_pre.6.bias', 'temporal_pre.7.weight', 'temporal_pre.7.bias', 'temporal_pre.8.weight', 'temporal_pre.8.bias', 'temporal_pre.9.weight', 'temporal_pre.9.bias', 'temporal_pre.10.weight', 'temporal_pre.10.bias', 'temporal_pre.11.weight', 'temporal_pre.11.bias', 'temporal_pre_norm.0.weight', 'temporal_pre_norm.0.bias', 'temporal_pre_norm.1.weight', 'temporal_pre_norm.1.bias', 'temporal_pre_norm.2.weight', 'temporal_pre_norm.2.bias', 'temporal_pre_norm.3.weight', 'temporal_pre_norm.3.bias', 'temporal_pre_norm.4.weight', 'temporal_pre_norm.4.bias', 'temporal_pre_norm.5.weight', 'temporal_pre_norm.5.bias', 'temporal_pre_norm.6.weight', 'temporal_pre_norm.6.bias', 'temporal_pre_norm.7.weight', 'temporal_pre_norm.7.bias', 'temporal_pre_norm.8.weight', 'temporal_pre_norm.8.bias', 'temporal_pre_norm.9.weight', 'temporal_pre_norm.9.bias', 'temporal_pre_norm.10.weight', 'temporal_pre_norm.10.bias', 'temporal_pre_norm.11.weight', 'temporal_pre_norm.11.bias', 'temporal_att_post.0.0.weight', 'temporal_att_post.0.0.bias', 'temporal_att_post.1.0.weight', 'temporal_att_post.1.0.bias', 'temporal_att_post.2.0.weight', 'temporal_att_post.2.0.bias', 'temporal_att_post.3.0.weight', 'temporal_att_post.3.0.bias', 'temporal_att_post.4.0.weight', 'temporal_att_post.4.0.bias', 'temporal_att_post.5.0.weight', 'temporal_att_post.5.0.bias', 'temporal_att_post.6.0.weight', 'temporal_att_post.6.0.bias', 'temporal_att_post.7.0.weight', 'temporal_att_post.7.0.bias', 'temporal_att_post.8.0.weight', 'temporal_att_post.8.0.bias', 'temporal_att_post.9.0.weight', 'temporal_att_post.9.0.bias', 'temporal_att_post.10.0.weight', 'temporal_att_post.10.0.bias', 'temporal_att_post.11.0.weight', 'temporal_att_post.11.0.bias', 'all_gate.0', 'all_gate.1', 'all_gate.2', 'all_gate.3', 'all_gate.4', 'all_gate.5', 'all_gate.6', 'all_gate.7', 'all_gate.8', 'all_gate.9', 'all_gate.10', 'all_gate.11'], unexpected_keys=['mask_token', 'decoder_pos_embed', 'decoder_embed.weight', 'decoder_embed.bias', 'decoder_blocks.0.norm1.weight', 'decoder_blocks.0.norm1.bias', 'decoder_blocks.0.attn.qkv.weight', 'decoder_blocks.0.attn.qkv.bias', 'decoder_blocks.0.attn.proj.weight', 'decoder_blocks.0.attn.proj.bias', 'decoder_blocks.0.norm2.weight', 'decoder_blocks.0.norm2.bias', 'decoder_blocks.0.mlp.fc1.weight', 'decoder_blocks.0.mlp.fc1.bias', 'decoder_blocks.0.mlp.fc2.weight', 'decoder_blocks.0.mlp.fc2.bias', 'decoder_blocks.1.norm1.weight', 'decoder_blocks.1.norm1.bias', 'decoder_blocks.1.attn.qkv.weight', 'decoder_blocks.1.attn.qkv.bias', 'decoder_blocks.1.attn.proj.weight', 'decoder_blocks.1.attn.proj.bias', 'decoder_blocks.1.norm2.weight', 'decoder_blocks.1.norm2.bias', 'decoder_blocks.1.mlp.fc1.weight', 'decoder_blocks.1.mlp.fc1.bias', 'decoder_blocks.1.mlp.fc2.weight', 'decoder_blocks.1.mlp.fc2.bias', 'decoder_blocks.2.norm1.weight', 'decoder_blocks.2.norm1.bias', 'decoder_blocks.2.attn.qkv.weight', 'decoder_blocks.2.attn.qkv.bias', 'decoder_blocks.2.attn.proj.weight', 'decoder_blocks.2.attn.proj.bias', 'decoder_blocks.2.norm2.weight', 'decoder_blocks.2.norm2.bias', 'decoder_blocks.2.mlp.fc1.weight', 'decoder_blocks.2.mlp.fc1.bias', 'decoder_blocks.2.mlp.fc2.weight', 'decoder_blocks.2.mlp.fc2.bias', 'decoder_blocks.3.norm1.weight', 'decoder_blocks.3.norm1.bias', 'decoder_blocks.3.attn.qkv.weight', 'decoder_blocks.3.attn.qkv.bias', 'decoder_blocks.3.attn.proj.weight', 'decoder_blocks.3.attn.proj.bias', 'decoder_blocks.3.norm2.weight', 'decoder_blocks.3.norm2.bias', 'decoder_blocks.3.mlp.fc1.weight', 'decoder_blocks.3.mlp.fc1.bias', 'decoder_blocks.3.mlp.fc2.weight', 'decoder_blocks.3.mlp.fc2.bias', 'decoder_blocks.4.norm1.weight', 'decoder_blocks.4.norm1.bias', 'decoder_blocks.4.attn.qkv.weight', 'decoder_blocks.4.attn.qkv.bias', 'decoder_blocks.4.attn.proj.weight', 'decoder_blocks.4.attn.proj.bias', 'decoder_blocks.4.norm2.weight', 'decoder_blocks.4.norm2.bias', 'decoder_blocks.4.mlp.fc1.weight', 'decoder_blocks.4.mlp.fc1.bias', 'decoder_blocks.4.mlp.fc2.weight', 'decoder_blocks.4.mlp.fc2.bias', 'decoder_blocks.5.norm1.weight', 'decoder_blocks.5.norm1.bias', 'decoder_blocks.5.attn.qkv.weight', 'decoder_blocks.5.attn.qkv.bias', 'decoder_blocks.5.attn.proj.weight', 'decoder_blocks.5.attn.proj.bias', 'decoder_blocks.5.norm2.weight', 'decoder_blocks.5.norm2.bias', 'decoder_blocks.5.mlp.fc1.weight', 'decoder_blocks.5.mlp.fc1.bias', 'decoder_blocks.5.mlp.fc2.weight', 'decoder_blocks.5.mlp.fc2.bias', 'decoder_blocks.6.norm1.weight', 'decoder_blocks.6.norm1.bias', 'decoder_blocks.6.attn.qkv.weight', 'decoder_blocks.6.attn.qkv.bias', 'decoder_blocks.6.attn.proj.weight', 'decoder_blocks.6.attn.proj.bias', 'decoder_blocks.6.norm2.weight', 'decoder_blocks.6.norm2.bias', 'decoder_blocks.6.mlp.fc1.weight', 'decoder_blocks.6.mlp.fc1.bias', 'decoder_blocks.6.mlp.fc2.weight', 'decoder_blocks.6.mlp.fc2.bias', 'decoder_blocks.7.norm1.weight', 'decoder_blocks.7.norm1.bias', 'decoder_blocks.7.attn.qkv.weight', 'decoder_blocks.7.attn.qkv.bias', 'decoder_blocks.7.attn.proj.weight', 'decoder_blocks.7.attn.proj.bias', 'decoder_blocks.7.norm2.weight', 'decoder_blocks.7.norm2.bias', 'decoder_blocks.7.mlp.fc1.weight', 'decoder_blocks.7.mlp.fc1.bias', 'decoder_blocks.7.mlp.fc2.weight', 'decoder_blocks.7.mlp.fc2.bias', 'decoder_norm.weight', 'decoder_norm.bias', 'decoder_pred.weight', 'decoder_pred.bias'])\n",
            "torch.Size([1, 513, 768]) torch.Size([1, 197, 768])\n",
            "Audio checkpoint loading:  _IncompatibleKeys(missing_keys=['pos_embed', 'learnable_prompts_init', 'head.weight', 'head.bias', 'learnable_prompts_progr.0', 'learnable_prompts_progr.1', 'temporal_att_post.0.0.weight', 'temporal_att_post.0.0.bias', 'temporal_att_post.1.0.weight', 'temporal_att_post.1.0.bias', 'temporal_att_post.2.0.weight', 'temporal_att_post.2.0.bias', 'temporal_att_post.3.0.weight', 'temporal_att_post.3.0.bias', 'temporal_att_post.4.0.weight', 'temporal_att_post.4.0.bias', 'temporal_att_post.5.0.weight', 'temporal_att_post.5.0.bias', 'temporal_att_post.6.0.weight', 'temporal_att_post.6.0.bias', 'temporal_att_post.7.0.weight', 'temporal_att_post.7.0.bias', 'temporal_att_post.8.0.weight', 'temporal_att_post.8.0.bias', 'temporal_att_post.9.0.weight', 'temporal_att_post.9.0.bias', 'temporal_att_post.10.0.weight', 'temporal_att_post.10.0.bias', 'temporal_att_post.11.0.weight', 'temporal_att_post.11.0.bias', 'all_gate.0', 'all_gate.1', 'all_gate.2', 'all_gate.3', 'all_gate.4', 'all_gate.5', 'all_gate.6', 'all_gate.7', 'all_gate.8', 'all_gate.9', 'all_gate.10', 'all_gate.11'], unexpected_keys=['mask_token', 'decoder_pos_embed', 'decoder_embed.weight', 'decoder_embed.bias', 'decoder_blocks.0.attn.tau', 'decoder_blocks.0.attn.qkv.weight', 'decoder_blocks.0.attn.qkv.bias', 'decoder_blocks.0.attn.proj.weight', 'decoder_blocks.0.attn.proj.bias', 'decoder_blocks.0.attn.meta_mlp.fc1.weight', 'decoder_blocks.0.attn.meta_mlp.fc1.bias', 'decoder_blocks.0.attn.meta_mlp.fc2.weight', 'decoder_blocks.0.attn.meta_mlp.fc2.bias', 'decoder_blocks.0.norm1.weight', 'decoder_blocks.0.norm1.bias', 'decoder_blocks.0.mlp.fc1.weight', 'decoder_blocks.0.mlp.fc1.bias', 'decoder_blocks.0.mlp.fc2.weight', 'decoder_blocks.0.mlp.fc2.bias', 'decoder_blocks.0.norm2.weight', 'decoder_blocks.0.norm2.bias', 'decoder_blocks.1.attn.tau', 'decoder_blocks.1.attn.qkv.weight', 'decoder_blocks.1.attn.qkv.bias', 'decoder_blocks.1.attn.proj.weight', 'decoder_blocks.1.attn.proj.bias', 'decoder_blocks.1.attn.meta_mlp.fc1.weight', 'decoder_blocks.1.attn.meta_mlp.fc1.bias', 'decoder_blocks.1.attn.meta_mlp.fc2.weight', 'decoder_blocks.1.attn.meta_mlp.fc2.bias', 'decoder_blocks.1.norm1.weight', 'decoder_blocks.1.norm1.bias', 'decoder_blocks.1.mlp.fc1.weight', 'decoder_blocks.1.mlp.fc1.bias', 'decoder_blocks.1.mlp.fc2.weight', 'decoder_blocks.1.mlp.fc2.bias', 'decoder_blocks.1.norm2.weight', 'decoder_blocks.1.norm2.bias', 'decoder_blocks.2.attn.tau', 'decoder_blocks.2.attn.qkv.weight', 'decoder_blocks.2.attn.qkv.bias', 'decoder_blocks.2.attn.proj.weight', 'decoder_blocks.2.attn.proj.bias', 'decoder_blocks.2.attn.meta_mlp.fc1.weight', 'decoder_blocks.2.attn.meta_mlp.fc1.bias', 'decoder_blocks.2.attn.meta_mlp.fc2.weight', 'decoder_blocks.2.attn.meta_mlp.fc2.bias', 'decoder_blocks.2.norm1.weight', 'decoder_blocks.2.norm1.bias', 'decoder_blocks.2.mlp.fc1.weight', 'decoder_blocks.2.mlp.fc1.bias', 'decoder_blocks.2.mlp.fc2.weight', 'decoder_blocks.2.mlp.fc2.bias', 'decoder_blocks.2.norm2.weight', 'decoder_blocks.2.norm2.bias', 'decoder_blocks.3.attn.tau', 'decoder_blocks.3.attn.qkv.weight', 'decoder_blocks.3.attn.qkv.bias', 'decoder_blocks.3.attn.proj.weight', 'decoder_blocks.3.attn.proj.bias', 'decoder_blocks.3.attn.meta_mlp.fc1.weight', 'decoder_blocks.3.attn.meta_mlp.fc1.bias', 'decoder_blocks.3.attn.meta_mlp.fc2.weight', 'decoder_blocks.3.attn.meta_mlp.fc2.bias', 'decoder_blocks.3.norm1.weight', 'decoder_blocks.3.norm1.bias', 'decoder_blocks.3.mlp.fc1.weight', 'decoder_blocks.3.mlp.fc1.bias', 'decoder_blocks.3.mlp.fc2.weight', 'decoder_blocks.3.mlp.fc2.bias', 'decoder_blocks.3.norm2.weight', 'decoder_blocks.3.norm2.bias', 'decoder_blocks.4.attn.tau', 'decoder_blocks.4.attn.qkv.weight', 'decoder_blocks.4.attn.qkv.bias', 'decoder_blocks.4.attn.proj.weight', 'decoder_blocks.4.attn.proj.bias', 'decoder_blocks.4.attn.meta_mlp.fc1.weight', 'decoder_blocks.4.attn.meta_mlp.fc1.bias', 'decoder_blocks.4.attn.meta_mlp.fc2.weight', 'decoder_blocks.4.attn.meta_mlp.fc2.bias', 'decoder_blocks.4.norm1.weight', 'decoder_blocks.4.norm1.bias', 'decoder_blocks.4.mlp.fc1.weight', 'decoder_blocks.4.mlp.fc1.bias', 'decoder_blocks.4.mlp.fc2.weight', 'decoder_blocks.4.mlp.fc2.bias', 'decoder_blocks.4.norm2.weight', 'decoder_blocks.4.norm2.bias', 'decoder_blocks.5.attn.tau', 'decoder_blocks.5.attn.qkv.weight', 'decoder_blocks.5.attn.qkv.bias', 'decoder_blocks.5.attn.proj.weight', 'decoder_blocks.5.attn.proj.bias', 'decoder_blocks.5.attn.meta_mlp.fc1.weight', 'decoder_blocks.5.attn.meta_mlp.fc1.bias', 'decoder_blocks.5.attn.meta_mlp.fc2.weight', 'decoder_blocks.5.attn.meta_mlp.fc2.bias', 'decoder_blocks.5.norm1.weight', 'decoder_blocks.5.norm1.bias', 'decoder_blocks.5.mlp.fc1.weight', 'decoder_blocks.5.mlp.fc1.bias', 'decoder_blocks.5.mlp.fc2.weight', 'decoder_blocks.5.mlp.fc2.bias', 'decoder_blocks.5.norm2.weight', 'decoder_blocks.5.norm2.bias', 'decoder_blocks.6.attn.tau', 'decoder_blocks.6.attn.qkv.weight', 'decoder_blocks.6.attn.qkv.bias', 'decoder_blocks.6.attn.proj.weight', 'decoder_blocks.6.attn.proj.bias', 'decoder_blocks.6.attn.meta_mlp.fc1.weight', 'decoder_blocks.6.attn.meta_mlp.fc1.bias', 'decoder_blocks.6.attn.meta_mlp.fc2.weight', 'decoder_blocks.6.attn.meta_mlp.fc2.bias', 'decoder_blocks.6.norm1.weight', 'decoder_blocks.6.norm1.bias', 'decoder_blocks.6.mlp.fc1.weight', 'decoder_blocks.6.mlp.fc1.bias', 'decoder_blocks.6.mlp.fc2.weight', 'decoder_blocks.6.mlp.fc2.bias', 'decoder_blocks.6.norm2.weight', 'decoder_blocks.6.norm2.bias', 'decoder_blocks.7.attn.tau', 'decoder_blocks.7.attn.qkv.weight', 'decoder_blocks.7.attn.qkv.bias', 'decoder_blocks.7.attn.proj.weight', 'decoder_blocks.7.attn.proj.bias', 'decoder_blocks.7.attn.meta_mlp.fc1.weight', 'decoder_blocks.7.attn.meta_mlp.fc1.bias', 'decoder_blocks.7.attn.meta_mlp.fc2.weight', 'decoder_blocks.7.attn.meta_mlp.fc2.bias', 'decoder_blocks.7.norm1.weight', 'decoder_blocks.7.norm1.bias', 'decoder_blocks.7.mlp.fc1.weight', 'decoder_blocks.7.mlp.fc1.bias', 'decoder_blocks.7.mlp.fc2.weight', 'decoder_blocks.7.mlp.fc2.bias', 'decoder_blocks.7.norm2.weight', 'decoder_blocks.7.norm2.bias', 'decoder_blocks.8.attn.tau', 'decoder_blocks.8.attn.qkv.weight', 'decoder_blocks.8.attn.qkv.bias', 'decoder_blocks.8.attn.proj.weight', 'decoder_blocks.8.attn.proj.bias', 'decoder_blocks.8.attn.meta_mlp.fc1.weight', 'decoder_blocks.8.attn.meta_mlp.fc1.bias', 'decoder_blocks.8.attn.meta_mlp.fc2.weight', 'decoder_blocks.8.attn.meta_mlp.fc2.bias', 'decoder_blocks.8.norm1.weight', 'decoder_blocks.8.norm1.bias', 'decoder_blocks.8.mlp.fc1.weight', 'decoder_blocks.8.mlp.fc1.bias', 'decoder_blocks.8.mlp.fc2.weight', 'decoder_blocks.8.mlp.fc2.bias', 'decoder_blocks.8.norm2.weight', 'decoder_blocks.8.norm2.bias', 'decoder_blocks.9.attn.tau', 'decoder_blocks.9.attn.qkv.weight', 'decoder_blocks.9.attn.qkv.bias', 'decoder_blocks.9.attn.proj.weight', 'decoder_blocks.9.attn.proj.bias', 'decoder_blocks.9.attn.meta_mlp.fc1.weight', 'decoder_blocks.9.attn.meta_mlp.fc1.bias', 'decoder_blocks.9.attn.meta_mlp.fc2.weight', 'decoder_blocks.9.attn.meta_mlp.fc2.bias', 'decoder_blocks.9.norm1.weight', 'decoder_blocks.9.norm1.bias', 'decoder_blocks.9.mlp.fc1.weight', 'decoder_blocks.9.mlp.fc1.bias', 'decoder_blocks.9.mlp.fc2.weight', 'decoder_blocks.9.mlp.fc2.bias', 'decoder_blocks.9.norm2.weight', 'decoder_blocks.9.norm2.bias', 'decoder_blocks.10.attn.tau', 'decoder_blocks.10.attn.qkv.weight', 'decoder_blocks.10.attn.qkv.bias', 'decoder_blocks.10.attn.proj.weight', 'decoder_blocks.10.attn.proj.bias', 'decoder_blocks.10.attn.meta_mlp.fc1.weight', 'decoder_blocks.10.attn.meta_mlp.fc1.bias', 'decoder_blocks.10.attn.meta_mlp.fc2.weight', 'decoder_blocks.10.attn.meta_mlp.fc2.bias', 'decoder_blocks.10.norm1.weight', 'decoder_blocks.10.norm1.bias', 'decoder_blocks.10.mlp.fc1.weight', 'decoder_blocks.10.mlp.fc1.bias', 'decoder_blocks.10.mlp.fc2.weight', 'decoder_blocks.10.mlp.fc2.bias', 'decoder_blocks.10.norm2.weight', 'decoder_blocks.10.norm2.bias', 'decoder_blocks.11.attn.tau', 'decoder_blocks.11.attn.qkv.weight', 'decoder_blocks.11.attn.qkv.bias', 'decoder_blocks.11.attn.proj.weight', 'decoder_blocks.11.attn.proj.bias', 'decoder_blocks.11.attn.meta_mlp.fc1.weight', 'decoder_blocks.11.attn.meta_mlp.fc1.bias', 'decoder_blocks.11.attn.meta_mlp.fc2.weight', 'decoder_blocks.11.attn.meta_mlp.fc2.bias', 'decoder_blocks.11.norm1.weight', 'decoder_blocks.11.norm1.bias', 'decoder_blocks.11.mlp.fc1.weight', 'decoder_blocks.11.mlp.fc1.bias', 'decoder_blocks.11.mlp.fc2.weight', 'decoder_blocks.11.mlp.fc2.bias', 'decoder_blocks.11.norm2.weight', 'decoder_blocks.11.norm2.bias', 'decoder_blocks.12.attn.tau', 'decoder_blocks.12.attn.qkv.weight', 'decoder_blocks.12.attn.qkv.bias', 'decoder_blocks.12.attn.proj.weight', 'decoder_blocks.12.attn.proj.bias', 'decoder_blocks.12.attn.meta_mlp.fc1.weight', 'decoder_blocks.12.attn.meta_mlp.fc1.bias', 'decoder_blocks.12.attn.meta_mlp.fc2.weight', 'decoder_blocks.12.attn.meta_mlp.fc2.bias', 'decoder_blocks.12.norm1.weight', 'decoder_blocks.12.norm1.bias', 'decoder_blocks.12.mlp.fc1.weight', 'decoder_blocks.12.mlp.fc1.bias', 'decoder_blocks.12.mlp.fc2.weight', 'decoder_blocks.12.mlp.fc2.bias', 'decoder_blocks.12.norm2.weight', 'decoder_blocks.12.norm2.bias', 'decoder_blocks.13.attn.tau', 'decoder_blocks.13.attn.qkv.weight', 'decoder_blocks.13.attn.qkv.bias', 'decoder_blocks.13.attn.proj.weight', 'decoder_blocks.13.attn.proj.bias', 'decoder_blocks.13.attn.meta_mlp.fc1.weight', 'decoder_blocks.13.attn.meta_mlp.fc1.bias', 'decoder_blocks.13.attn.meta_mlp.fc2.weight', 'decoder_blocks.13.attn.meta_mlp.fc2.bias', 'decoder_blocks.13.norm1.weight', 'decoder_blocks.13.norm1.bias', 'decoder_blocks.13.mlp.fc1.weight', 'decoder_blocks.13.mlp.fc1.bias', 'decoder_blocks.13.mlp.fc2.weight', 'decoder_blocks.13.mlp.fc2.bias', 'decoder_blocks.13.norm2.weight', 'decoder_blocks.13.norm2.bias', 'decoder_blocks.14.attn.tau', 'decoder_blocks.14.attn.qkv.weight', 'decoder_blocks.14.attn.qkv.bias', 'decoder_blocks.14.attn.proj.weight', 'decoder_blocks.14.attn.proj.bias', 'decoder_blocks.14.attn.meta_mlp.fc1.weight', 'decoder_blocks.14.attn.meta_mlp.fc1.bias', 'decoder_blocks.14.attn.meta_mlp.fc2.weight', 'decoder_blocks.14.attn.meta_mlp.fc2.bias', 'decoder_blocks.14.norm1.weight', 'decoder_blocks.14.norm1.bias', 'decoder_blocks.14.mlp.fc1.weight', 'decoder_blocks.14.mlp.fc1.bias', 'decoder_blocks.14.mlp.fc2.weight', 'decoder_blocks.14.mlp.fc2.bias', 'decoder_blocks.14.norm2.weight', 'decoder_blocks.14.norm2.bias', 'decoder_blocks.15.attn.tau', 'decoder_blocks.15.attn.qkv.weight', 'decoder_blocks.15.attn.qkv.bias', 'decoder_blocks.15.attn.proj.weight', 'decoder_blocks.15.attn.proj.bias', 'decoder_blocks.15.attn.meta_mlp.fc1.weight', 'decoder_blocks.15.attn.meta_mlp.fc1.bias', 'decoder_blocks.15.attn.meta_mlp.fc2.weight', 'decoder_blocks.15.attn.meta_mlp.fc2.bias', 'decoder_blocks.15.norm1.weight', 'decoder_blocks.15.norm1.bias', 'decoder_blocks.15.mlp.fc1.weight', 'decoder_blocks.15.mlp.fc1.bias', 'decoder_blocks.15.mlp.fc2.weight', 'decoder_blocks.15.mlp.fc2.bias', 'decoder_blocks.15.norm2.weight', 'decoder_blocks.15.norm2.bias', 'decoder_norm.weight', 'decoder_norm.bias', 'decoder_pred.weight', 'decoder_pred.bias'])\n"
          ]
        }
      ]
    },
    {
      "cell_type": "code",
      "source": [
        "! pip install wget\n",
        "! pip install moviepy"
      ],
      "metadata": {
        "id": "WkWQLSKmRbzD",
        "colab": {
          "base_uri": "https://localhost:8080/"
        },
        "outputId": "098bd64f-d69c-4a77-a0ea-7cb534e9bda0"
      },
      "execution_count": 5,
      "outputs": [
        {
          "output_type": "stream",
          "name": "stdout",
          "text": [
            "Collecting wget\n",
            "  Downloading wget-3.2.zip (10 kB)\n",
            "  Preparing metadata (setup.py) ... \u001b[?25l\u001b[?25hdone\n",
            "Building wheels for collected packages: wget\n",
            "  Building wheel for wget (setup.py) ... \u001b[?25l\u001b[?25hdone\n",
            "  Created wheel for wget: filename=wget-3.2-py3-none-any.whl size=9656 sha256=294ae5f31fae6e7bd688c4a5450e55d3b355568790dedb1eed3c6c7ad51b9543\n",
            "  Stored in directory: /root/.cache/pip/wheels/8b/f1/7f/5c94f0a7a505ca1c81cd1d9208ae2064675d97582078e6c769\n",
            "Successfully built wget\n",
            "Installing collected packages: wget\n",
            "Successfully installed wget-3.2\n",
            "Requirement already satisfied: moviepy in /usr/local/lib/python3.10/dist-packages (1.0.3)\n",
            "Requirement already satisfied: decorator<5.0,>=4.0.2 in /usr/local/lib/python3.10/dist-packages (from moviepy) (4.4.2)\n",
            "Requirement already satisfied: tqdm<5.0,>=4.11.2 in /usr/local/lib/python3.10/dist-packages (from moviepy) (4.66.2)\n",
            "Requirement already satisfied: requests<3.0,>=2.8.1 in /usr/local/lib/python3.10/dist-packages (from moviepy) (2.32.3)\n",
            "Requirement already satisfied: proglog<=1.0.0 in /usr/local/lib/python3.10/dist-packages (from moviepy) (0.1.10)\n",
            "Requirement already satisfied: numpy>=1.17.3 in /usr/local/lib/python3.10/dist-packages (from moviepy) (1.25.2)\n",
            "Requirement already satisfied: imageio<3.0,>=2.5 in /usr/local/lib/python3.10/dist-packages (from moviepy) (2.36.0)\n",
            "Requirement already satisfied: imageio-ffmpeg>=0.2.0 in /usr/local/lib/python3.10/dist-packages (from moviepy) (0.5.1)\n",
            "Requirement already satisfied: pillow>=8.3.2 in /usr/local/lib/python3.10/dist-packages (from imageio<3.0,>=2.5->moviepy) (10.2.0)\n",
            "Requirement already satisfied: setuptools in /usr/local/lib/python3.10/dist-packages (from imageio-ffmpeg>=0.2.0->moviepy) (75.1.0)\n",
            "Requirement already satisfied: charset-normalizer<4,>=2 in /usr/local/lib/python3.10/dist-packages (from requests<3.0,>=2.8.1->moviepy) (3.4.0)\n",
            "Requirement already satisfied: idna<4,>=2.5 in /usr/local/lib/python3.10/dist-packages (from requests<3.0,>=2.8.1->moviepy) (3.10)\n",
            "Requirement already satisfied: urllib3<3,>=1.21.1 in /usr/local/lib/python3.10/dist-packages (from requests<3.0,>=2.8.1->moviepy) (2.0.4)\n",
            "Requirement already satisfied: certifi>=2017.4.17 in /usr/local/lib/python3.10/dist-packages (from requests<3.0,>=2.8.1->moviepy) (2024.8.30)\n"
          ]
        }
      ]
    },
    {
      "cell_type": "code",
      "source": [
        "import wget\n",
        "import zipfile\n",
        "import os\n",
        "actors = 1 # 24 max\n",
        "for x in range(1,actors+1):\n",
        "  num_str = None\n",
        "  if(x < 10):\n",
        "    num_str = \"0\" + str(x)\n",
        "  else:\n",
        "    num_str = str(x)\n",
        "  url = \"https://zenodo.org/records/1188976/files/Video_Speech_Actor_\" + num_str + \".zip?download=1\"\n",
        "  print(\"Downloading: \", url)\n",
        "  filename = wget.download(url)\n",
        "  print(\"Unzipping: \", filename)\n",
        "  with zipfile.ZipFile(filename, 'r') as zip_ref:\n",
        "    zip_ref.extractall('./Data/')\n",
        "  print(\"Deleting zip: \", filename)\n",
        "  os.remove(filename)"
      ],
      "metadata": {
        "colab": {
          "base_uri": "https://localhost:8080/"
        },
        "id": "a_itpJ7vnyFp",
        "outputId": "42ffb8e1-7f32-4dec-d047-788087e05069"
      },
      "execution_count": 54,
      "outputs": [
        {
          "output_type": "stream",
          "name": "stdout",
          "text": [
            "Downloading:  https://zenodo.org/records/1188976/files/Video_Speech_Actor_01.zip?download=1\n",
            "Unzipping:  Video_Speech_Actor_01.zip\n",
            "Deleting zip:  Video_Speech_Actor_01.zip\n"
          ]
        }
      ]
    },
    {
      "cell_type": "code",
      "source": [
        "# extract and save audio\n",
        "import cv2\n",
        "import shutil\n",
        "\n",
        "actors = os.listdir(\"./Data/\")\n",
        "training_files = []\n",
        "testing_files = []\n",
        "counter = 0\n",
        "for actor in actors:\n",
        "  files = os.listdir(\"./Data/\"+ actor)\n",
        "  for filename in files:\n",
        "    file_split_dash = filename.split(\"-\")\n",
        "    file_split_dot = filename.split(\".\")\n",
        "    if((file_split_dash[0] == \"01\") and (file_split_dot[1] == \"mp4\")):\n",
        "      cap = cv2. VideoCapture(\"./Data/\"+filename)\n",
        "      length = int(cap. get(cv2. CAP_PROP_FRAME_COUNT))\n",
        "      counter = counter + 1\n",
        "      class_idx = file_split_dash[2]\n",
        "      dest = \"./testing/\" + str(counter) + \" \" + \" \" + str(length) + \" \" + str(class_idx) + \".mp4\"\n",
        "      shutil.copyfile(\"./Data/Actor_01/\" + filename, dest)\n"
      ],
      "metadata": {
        "id": "aNfzmmcEn3GA"
      },
      "execution_count": 71,
      "outputs": []
    },
    {
      "cell_type": "code",
      "source": [
        "# File naming convention\n",
        "\n",
        "# Each of the 7356 RAVDESS files has a unique filename. The filename consists of a 7-part numerical identifier (e.g., 02-01-06-01-02-01-12.mp4). These identifiers define the stimulus characteristics:\n",
        "\n",
        "# Filename identifiers\n",
        "\n",
        "# Modality (01 = full-AV, 02 = video-only, 03 = audio-only).\n",
        "# Vocal channel (01 = speech, 02 = song).\n",
        "# Emotion (01 = neutral, 02 = calm, 03 = happy, 04 = sad, 05 = angry, 06 = fearful, 07 = disgust, 08 = surprised).\n",
        "# Emotional intensity (01 = normal, 02 = strong). NOTE: There is no strong intensity for the 'neutral' emotion.\n",
        "# Statement (01 = \"Kids are talking by the door\", 02 = \"Dogs are sitting by the door\").\n",
        "# Repetition (01 = 1st repetition, 02 = 2nd repetition).\n",
        "# Actor (01 to 24. Odd numbered actors are male, even numbered actors are female).\n",
        "\n",
        "# Filename example: 02-01-06-01-02-01-12.mp4\n",
        "\n",
        "# Video-only (02)\n",
        "# Speech (01)\n",
        "# Fearful (06)\n",
        "# Normal intensity (01)\n",
        "# Statement \"dogs\" (02)\n",
        "# 1st Repetition (01)\n",
        "# 12th Actor (12)\n",
        "# Female, as the actor ID number is even.\n",
        "\n",
        "import torch\n",
        "import torchvision.transforms as transforms\n",
        "import os\n",
        "import random\n",
        "import moviepy\n",
        "import numpy as np\n",
        "import librosa\n",
        "import librosa\n",
        "import torchaudio\n",
        "import random\n",
        "\n",
        "class RAVDESSCreateDataset(torch.utils.data.Dataset):\n",
        "  def __init__(self, filenames):\n",
        "    self.device = torch.device(\"cuda\" if torch.cuda.is_available() else \"cpu\")\n",
        "    self.files = filenames.copy()\n",
        "    # Emotion (01 = neutral, 02 = calm, 03 = happy, 04 = sad, 05 = angry, 06 = fearful, 07 = disgust, 08 = surprised).\n",
        "    self.emotions = [\"Neutral\",\"Calm\",\"Happy\",\"Sad\",\"Angry\",\"Fearful\",\"Disgust\",\"Surprised\"]\n",
        "\n",
        "  def __getitem__(self, index):\n",
        "    filename = self.files[index]\n",
        "    filename_split = filename.split(\"-\")\n",
        "    # print(filename)\n",
        "    label_str = self.emotions[int(filename_split[2])-1]\n",
        "    video_clip = VideoFileClip(filename)\n",
        "    video_clip = video_clip.resize( (224,224))\n",
        "    # get random section of the video clip:\n",
        "    start_offset = random.uniform(0.5,video_clip.duration-0.8)\n",
        "    video_clip = video_clip.subclip(start_offset, start_offset + 0.52)\n",
        "    video_data = np.array([frame for frame in video_clip.iter_frames()]).astype(np.float32)\n",
        "    video_data = torch.tensor(video_data)\n",
        "    video_data = torch.reshape(video_data, (-1, 3, 224, 224))\n",
        "\n",
        "    audio_filename = \".\" + filename.split(\".\")[1] + \".wav\"\n",
        "    waveform, sr = torchaudio.load(audio_filename)\n",
        "    waveform = waveform - waveform.mean()\n",
        "    fbank = torchaudio.compliance.kaldi.fbank(waveform, htk_compat=True, sample_frequency=sr, use_energy=False,\n",
        "                                                  window_type='hanning', num_mel_bins=128, dither=0.0, frame_shift=10)\n",
        "    target_length = 512\n",
        "    n_frames = fbank.shape[0]\n",
        "\n",
        "    p = target_length - n_frames\n",
        "\n",
        "    # cut and pad\n",
        "    if p > 0:\n",
        "        m = torch.nn.ZeroPad2d((0, 0, 0, p))\n",
        "        fbank = m(fbank)\n",
        "    elif p < 0:\n",
        "        fbank = fbank[0:target_length, :]\n",
        "    freqm = torchaudio.transforms.FrequencyMasking(0)\n",
        "    timem = torchaudio.transforms.TimeMasking(0)\n",
        "    fbank = fbank.transpose(0,1).unsqueeze(0)\n",
        "    fbank = torch.transpose(fbank.squeeze(), 0, 1) # time, freq\n",
        "    fbank = (fbank - (-4.2677393)) / ( 4.5689974 * 2) #audioset\n",
        "\n",
        "    return video_data, fbank.unsqueeze(0), label_str\n",
        "    # return {\"video\":video, \"audio\":audio, \"label_classes\":label_classes, \"label_id\":label_id, \"label_str\":label_str, \"gender\":gender}\n",
        "\n",
        "  def __len__(self):\n",
        "    return len(self.files)\n",
        "\n",
        "def CreateDatasets(training_split_decimal):\n",
        "  actors = os.listdir(\"./Data/\")\n",
        "  training_files = []\n",
        "  testing_files = []\n",
        "  training_split = int(training_split_decimal * 60)\n",
        "  for actor in actors:\n",
        "    files = os.listdir(\"./Data/\"+actor)\n",
        "    num_files = len(files)\n",
        "    indexes = random.sample(range(num_files), num_files)\n",
        "    counter = 0\n",
        "    for i in indexes:\n",
        "      file_split_dash = files[i].split(\"-\")\n",
        "      file_split_dot = files[i].split(\".\")\n",
        "      if((file_split_dash[0] == \"01\") and (file_split_dot[1] == \"mp4\")):\n",
        "        if(counter < training_split):\n",
        "          training_files.append(\"./Data/\" + actor + \"/\" + files[i])\n",
        "        else:\n",
        "          testing_files.append(\"./Data/\" + actor + \"/\" + files[i])\n",
        "        counter = counter + 1\n",
        "  train = RAVDESSCreateDataset(training_files)\n",
        "  test = RAVDESSCreateDataset(testing_files)\n",
        "  return train, test\n",
        "\n",
        "RAVDESS_training_set, RAVDESS_testing_set = CreateDatasets(0.8)"
      ],
      "metadata": {
        "id": "pFXOkI1CooXu"
      },
      "execution_count": 105,
      "outputs": []
    },
    {
      "cell_type": "code",
      "source": [
        "model.eval()\n",
        "val_loader = torch.utils.data.DataLoader(RAVDESS_testing_set,\n",
        "                                        batch_size=1,\n",
        "                                        shuffle=False,\n",
        "                                        pin_memory=True)\n",
        "for i, (images, audio, target) in enumerate(val_loader):\n",
        "  print(images.shape)\n",
        "  print(audio.shape)\n",
        "  print(target)\n",
        "  print(model(images, audio))\n",
        "  break\n",
        "# data = RAVDESS_testing_set[0]\n",
        "# torch.zeros(1, 16, 3, 224,224)\n",
        "\n",
        "# for the model  k ∈ {1, 2, 3, 4, 5, 6, 7} refer to happy, sad, neutral, angry, surprise,\n"
      ],
      "metadata": {
        "colab": {
          "base_uri": "https://localhost:8080/"
        },
        "id": "YhPoFlouo3Dt",
        "outputId": "ac5a1cd6-4ce7-4d51-99d6-fc9c1b24117a"
      },
      "execution_count": 106,
      "outputs": [
        {
          "output_type": "stream",
          "name": "stdout",
          "text": [
            "torch.Size([1, 16, 3, 224, 224])\n",
            "torch.Size([1, 1, 512, 128])\n",
            "('Happy',)\n",
            "tensor([[ 0.2464,  0.7947,  0.0822, -1.0445,  1.2475, -0.6246, -0.0226]],\n",
            "       grad_fn=<AddmmBackward0>)\n"
          ]
        }
      ]
    },
    {
      "cell_type": "code",
      "source": [
        "! unzip  -o -q '/content/drive/MyDrive/Odyssey/Dev_MSP.zip' -d \"./\""
      ],
      "metadata": {
        "id": "pfBx9gnQSKZ_"
      },
      "execution_count": 4,
      "outputs": []
    },
    {
      "cell_type": "code",
      "source": [
        "\n",
        "import torch\n",
        "import torchvision.transforms as transforms\n",
        "import os\n",
        "import random\n",
        "import moviepy\n",
        "import numpy as np\n",
        "import random\n",
        "\n",
        "class CreateMSPDataset(torch.utils.data.Dataset):\n",
        "  def __init__(self, root, num_files):\n",
        "    self.device = torch.device(\"cuda\" if torch.cuda.is_available() else \"cpu\")\n",
        "    self.root = root\n",
        "    #{0: 'Angry', 1: 'Sad', 2: 'Happy', 3: 'Surprise', 4: 'Fear', 5: 'Disgust', 6: 'Contempt', 7: 'Neutral'}\n",
        "    self.emotions = [\"Angry\",\"Sad\",\"Happy\",\"Surprise\",\"Fear\",\"Disgust\",\"Contempt\",\"Neutral\"]\n",
        "    # Angry (A), Sad (S), Happy (H), Surprise (U), Fear (F), Disgust (D), Contempt (C), Neutral (N)\n",
        "    self.em_abr = [\"A\", \"S\", \"H\", \"U\",\"F\",\"D\",\"C\",\"N\"]\n",
        "    self.files = os.listdir(self.root)\n",
        "    self.files = reduced_list = random.sample(self.files, num_files)\n",
        "\n",
        "  def __getitem__(self, index):\n",
        "    filename = self.files[index]\n",
        "    filename_split = filename.split(\"-\")\n",
        "    label_num = self.em_abr.index(filename_split[2])\n",
        "    label_classes = 8 * [0.0]\n",
        "    label_classes[label_num] = 1.0\n",
        "    label_classes = torch.tensor(label_classes)\n",
        "    label_str = self.emotions[label_num]\n",
        "    audio_filename = self.root + filename\n",
        "\n",
        "    waveform, sr = torchaudio.load(audio_filename)\n",
        "    waveform = waveform - waveform.mean()\n",
        "    fbank = torchaudio.compliance.kaldi.fbank(waveform, htk_compat=True, sample_frequency=sr, use_energy=False,\n",
        "                                                  window_type='hanning', num_mel_bins=128, dither=0.0, frame_shift=10)\n",
        "    target_length = 512\n",
        "    n_frames = fbank.shape[0]\n",
        "\n",
        "    p = target_length - n_frames\n",
        "\n",
        "    # cut and pad\n",
        "    if p > 0:\n",
        "        m = torch.nn.ZeroPad2d((0, 0, 0, p))\n",
        "        fbank = m(fbank)\n",
        "    elif p < 0:\n",
        "        fbank = fbank[0:target_length, :]\n",
        "    freqm = torchaudio.transforms.FrequencyMasking(0)\n",
        "    timem = torchaudio.transforms.TimeMasking(0)\n",
        "    fbank = fbank.transpose(0,1).unsqueeze(0)\n",
        "    fbank = torch.transpose(fbank.squeeze(), 0, 1) # time, freq\n",
        "    fbank = (fbank - (-4.2677393)) / ( 4.5689974 * 2) #audioset\n",
        "\n",
        "    return fbank.unsqueeze(0), label_classes\n",
        "\n",
        "  def __len__(self):\n",
        "    return len(self.files)\n",
        "\n",
        "MSP_dev_set = CreateMSPDataset(\"./Dev_MSP/\", 1000)\n",
        "MSP_train_set = CreateMSPDataset(\"./Dev_MSP/\", 100)"
      ],
      "metadata": {
        "id": "9JVff960SRyQ"
      },
      "execution_count": 5,
      "outputs": []
    },
    {
      "cell_type": "code",
      "source": [
        "import torchaudio\n",
        "\n",
        "def MSP_accuracy(model, test_items):\n",
        "  model.eval()\n",
        "  counter = 0\n",
        "  correct = 0\n",
        "\n",
        "  val_loader = torch.utils.data.DataLoader(MSP_dev_set,\n",
        "                                          batch_size=1,\n",
        "                                          shuffle=True,\n",
        "                                          pin_memory=True)\n",
        "  for i, (audio, target) in enumerate(val_loader):\n",
        "    output = model(torch.zeros(1, 16, 3, 224,224).cuda(), audio.cuda())\n",
        "    if(output.argmax(dim=1) == target.cuda().argmax(dim=1)):\n",
        "      correct = correct + 1\n",
        "    counter = counter + 1\n",
        "    if(counter >= test_items):\n",
        "      break\n",
        "  return correct/counter\n",
        "\n",
        "MSP_accuracy(model,30)"
      ],
      "metadata": {
        "colab": {
          "base_uri": "https://localhost:8080/"
        },
        "id": "qPugbxFeSmkG",
        "outputId": "529a29e7-1bb1-4cb0-f04d-5981e86a4da8"
      },
      "execution_count": 6,
      "outputs": [
        {
          "output_type": "execute_result",
          "data": {
            "text/plain": [
              "0.0"
            ]
          },
          "metadata": {},
          "execution_count": 6
        }
      ]
    },
    {
      "cell_type": "code",
      "source": [
        "import torch\n",
        "import torch.nn as nn\n",
        "import torchaudio\n",
        "from IPython import display\n",
        "import matplotlib.pyplot as plt\n",
        "\n",
        "val_loader = torch.utils.data.DataLoader(MSP_train_set,\n",
        "                                        batch_size=1,\n",
        "                                        shuffle=True,\n",
        "                                        pin_memory=True)\n",
        "\n",
        "# define loss function (criterion)\n",
        "criterion = nn.CrossEntropyLoss().cuda()\n",
        "\n",
        "# define optimizer\n",
        "optimizer = torch.optim.AdamW(params=model.parameters(), lr=0.0001)\n",
        "training_loss_data = []\n",
        "accuracy = []\n",
        "\n",
        "\n",
        "for epoch in range(100):\n",
        "  for i, (audio, target) in enumerate(val_loader):\n",
        "      # compute output\n",
        "      output = model(torch.zeros(1, 16, 3, 224,224).cuda(), audio.cuda())\n",
        "      loss = criterion(output, target.cuda())\n",
        "\n",
        "      # compute gradient and do SGD step\n",
        "      optimizer.zero_grad()\n",
        "      loss.backward()\n",
        "      optimizer.step()\n",
        "\n",
        "  training_loss_data.append(loss.item())\n",
        "  accuracy.append(MSP_accuracy(model, 100))\n",
        "  model.train()\n",
        "  fig, ax = plt.subplots(nrows=1, ncols=2)\n",
        "  ax[0].plot(training_loss_data)\n",
        "  ax[0].set_title('training_loss')\n",
        "  ax[1].plot(accuracy)\n",
        "  ax[1].set_title('validation accuracy')\n",
        "  display.clear_output(wait=True)\n",
        "  plt.show()\n",
        "  plt.grid()"
      ],
      "metadata": {
        "colab": {
          "base_uri": "https://localhost:8080/",
          "height": 1000
        },
        "id": "BeqX6kaLb0B3",
        "outputId": "40461405-3763-4d5d-b57b-c52be39166dc"
      },
      "execution_count": 7,
      "outputs": [
        {
          "output_type": "display_data",
          "data": {
            "text/plain": [
              "<Figure size 640x480 with 1 Axes>"
            ],
            "image/png": "[encoded data removed]"
          },
          "metadata": {}
        },
        {
          "output_type": "display_data",
          "data": {
            "text/plain": [
              "<Figure size 640x480 with 2 Axes>"
            ],
            "image/png": "[encoded data removed]"
          },
          "metadata": {}
        },
        {
          "output_type": "error",
          "ename": "KeyboardInterrupt",
          "evalue": "",
          "traceback": [
            "\u001b[0;31m---------------------------------------------------------------------------\u001b[0m",
            "\u001b[0;31mKeyboardInterrupt\u001b[0m                         Traceback (most recent call last)",
            "\u001b[0;32m<ipython-input-7-366cbb213ed1>\u001b[0m in \u001b[0;36m<cell line: 21>\u001b[0;34m()\u001b[0m\n\u001b[1;32m     28\u001b[0m       \u001b[0moptimizer\u001b[0m\u001b[0;34m.\u001b[0m\u001b[0mzero_grad\u001b[0m\u001b[0;34m(\u001b[0m\u001b[0;34m)\u001b[0m\u001b[0;34m\u001b[0m\u001b[0;34m\u001b[0m\u001b[0m\n\u001b[1;32m     29\u001b[0m       \u001b[0mloss\u001b[0m\u001b[0;34m.\u001b[0m\u001b[0mbackward\u001b[0m\u001b[0;34m(\u001b[0m\u001b[0;34m)\u001b[0m\u001b[0;34m\u001b[0m\u001b[0;34m\u001b[0m\u001b[0m\n\u001b[0;32m---> 30\u001b[0;31m       \u001b[0moptimizer\u001b[0m\u001b[0;34m.\u001b[0m\u001b[0mstep\u001b[0m\u001b[0;34m(\u001b[0m\u001b[0;34m)\u001b[0m\u001b[0;34m\u001b[0m\u001b[0;34m\u001b[0m\u001b[0m\n\u001b[0m\u001b[1;32m     31\u001b[0m \u001b[0;34m\u001b[0m\u001b[0m\n\u001b[1;32m     32\u001b[0m   \u001b[0mtraining_loss_data\u001b[0m\u001b[0;34m.\u001b[0m\u001b[0mappend\u001b[0m\u001b[0;34m(\u001b[0m\u001b[0mloss\u001b[0m\u001b[0;34m.\u001b[0m\u001b[0mitem\u001b[0m\u001b[0;34m(\u001b[0m\u001b[0;34m)\u001b[0m\u001b[0;34m)\u001b[0m\u001b[0;34m\u001b[0m\u001b[0;34m\u001b[0m\u001b[0m\n",
            "\u001b[0;32m/usr/local/lib/python3.10/dist-packages/torch/optim/optimizer.py\u001b[0m in \u001b[0;36mwrapper\u001b[0;34m(*args, **kwargs)\u001b[0m\n\u001b[1;32m    383\u001b[0m                             )\n\u001b[1;32m    384\u001b[0m \u001b[0;34m\u001b[0m\u001b[0m\n\u001b[0;32m--> 385\u001b[0;31m                 \u001b[0mout\u001b[0m \u001b[0;34m=\u001b[0m \u001b[0mfunc\u001b[0m\u001b[0;34m(\u001b[0m\u001b[0;34m*\u001b[0m\u001b[0margs\u001b[0m\u001b[0;34m,\u001b[0m \u001b[0;34m**\u001b[0m\u001b[0mkwargs\u001b[0m\u001b[0;34m)\u001b[0m\u001b[0;34m\u001b[0m\u001b[0;34m\u001b[0m\u001b[0m\n\u001b[0m\u001b[1;32m    386\u001b[0m                 \u001b[0mself\u001b[0m\u001b[0;34m.\u001b[0m\u001b[0m_optimizer_step_code\u001b[0m\u001b[0;34m(\u001b[0m\u001b[0;34m)\u001b[0m\u001b[0;34m\u001b[0m\u001b[0;34m\u001b[0m\u001b[0m\n\u001b[1;32m    387\u001b[0m \u001b[0;34m\u001b[0m\u001b[0m\n",
            "\u001b[0;32m/usr/local/lib/python3.10/dist-packages/torch/optim/optimizer.py\u001b[0m in \u001b[0;36m_use_grad\u001b[0;34m(self, *args, **kwargs)\u001b[0m\n\u001b[1;32m     74\u001b[0m             \u001b[0mtorch\u001b[0m\u001b[0;34m.\u001b[0m\u001b[0mset_grad_enabled\u001b[0m\u001b[0;34m(\u001b[0m\u001b[0mself\u001b[0m\u001b[0;34m.\u001b[0m\u001b[0mdefaults\u001b[0m\u001b[0;34m[\u001b[0m\u001b[0;34m'differentiable'\u001b[0m\u001b[0;34m]\u001b[0m\u001b[0;34m)\u001b[0m\u001b[0;34m\u001b[0m\u001b[0;34m\u001b[0m\u001b[0m\n\u001b[1;32m     75\u001b[0m             \u001b[0mtorch\u001b[0m\u001b[0;34m.\u001b[0m\u001b[0m_dynamo\u001b[0m\u001b[0;34m.\u001b[0m\u001b[0mgraph_break\u001b[0m\u001b[0;34m(\u001b[0m\u001b[0;34m)\u001b[0m\u001b[0;34m\u001b[0m\u001b[0;34m\u001b[0m\u001b[0m\n\u001b[0;32m---> 76\u001b[0;31m             \u001b[0mret\u001b[0m \u001b[0;34m=\u001b[0m \u001b[0mfunc\u001b[0m\u001b[0;34m(\u001b[0m\u001b[0mself\u001b[0m\u001b[0;34m,\u001b[0m \u001b[0;34m*\u001b[0m\u001b[0margs\u001b[0m\u001b[0;34m,\u001b[0m \u001b[0;34m**\u001b[0m\u001b[0mkwargs\u001b[0m\u001b[0;34m)\u001b[0m\u001b[0;34m\u001b[0m\u001b[0;34m\u001b[0m\u001b[0m\n\u001b[0m\u001b[1;32m     77\u001b[0m         \u001b[0;32mfinally\u001b[0m\u001b[0;34m:\u001b[0m\u001b[0;34m\u001b[0m\u001b[0;34m\u001b[0m\u001b[0m\n\u001b[1;32m     78\u001b[0m             \u001b[0mtorch\u001b[0m\u001b[0;34m.\u001b[0m\u001b[0m_dynamo\u001b[0m\u001b[0;34m.\u001b[0m\u001b[0mgraph_break\u001b[0m\u001b[0;34m(\u001b[0m\u001b[0;34m)\u001b[0m\u001b[0;34m\u001b[0m\u001b[0;34m\u001b[0m\u001b[0m\n",
            "\u001b[0;32m/usr/local/lib/python3.10/dist-packages/torch/optim/adamw.py\u001b[0m in \u001b[0;36mstep\u001b[0;34m(self, closure)\u001b[0m\n\u001b[1;32m    185\u001b[0m             )\n\u001b[1;32m    186\u001b[0m \u001b[0;34m\u001b[0m\u001b[0m\n\u001b[0;32m--> 187\u001b[0;31m             adamw(\n\u001b[0m\u001b[1;32m    188\u001b[0m                 \u001b[0mparams_with_grad\u001b[0m\u001b[0;34m,\u001b[0m\u001b[0;34m\u001b[0m\u001b[0;34m\u001b[0m\u001b[0m\n\u001b[1;32m    189\u001b[0m                 \u001b[0mgrads\u001b[0m\u001b[0;34m,\u001b[0m\u001b[0;34m\u001b[0m\u001b[0;34m\u001b[0m\u001b[0m\n",
            "\u001b[0;32m/usr/local/lib/python3.10/dist-packages/torch/optim/adamw.py\u001b[0m in \u001b[0;36madamw\u001b[0;34m(params, grads, exp_avgs, exp_avg_sqs, max_exp_avg_sqs, state_steps, foreach, capturable, differentiable, fused, grad_scale, found_inf, has_complex, amsgrad, beta1, beta2, lr, weight_decay, eps, maximize)\u001b[0m\n\u001b[1;32m    337\u001b[0m         \u001b[0mfunc\u001b[0m \u001b[0;34m=\u001b[0m \u001b[0m_single_tensor_adamw\u001b[0m\u001b[0;34m\u001b[0m\u001b[0;34m\u001b[0m\u001b[0m\n\u001b[1;32m    338\u001b[0m \u001b[0;34m\u001b[0m\u001b[0m\n\u001b[0;32m--> 339\u001b[0;31m     func(\n\u001b[0m\u001b[1;32m    340\u001b[0m         \u001b[0mparams\u001b[0m\u001b[0;34m,\u001b[0m\u001b[0;34m\u001b[0m\u001b[0;34m\u001b[0m\u001b[0m\n\u001b[1;32m    341\u001b[0m         \u001b[0mgrads\u001b[0m\u001b[0;34m,\u001b[0m\u001b[0;34m\u001b[0m\u001b[0;34m\u001b[0m\u001b[0m\n",
            "\u001b[0;32m/usr/local/lib/python3.10/dist-packages/torch/optim/adamw.py\u001b[0m in \u001b[0;36m_multi_tensor_adamw\u001b[0;34m(params, grads, exp_avgs, exp_avg_sqs, max_exp_avg_sqs, state_steps, grad_scale, found_inf, amsgrad, beta1, beta2, lr, weight_decay, eps, maximize, capturable, differentiable, has_complex)\u001b[0m\n\u001b[1;32m    547\u001b[0m \u001b[0;34m\u001b[0m\u001b[0m\n\u001b[1;32m    548\u001b[0m         \u001b[0;31m# Decay the first and second moment running average coefficient\u001b[0m\u001b[0;34m\u001b[0m\u001b[0;34m\u001b[0m\u001b[0m\n\u001b[0;32m--> 549\u001b[0;31m         \u001b[0mtorch\u001b[0m\u001b[0;34m.\u001b[0m\u001b[0m_foreach_lerp_\u001b[0m\u001b[0;34m(\u001b[0m\u001b[0mdevice_exp_avgs\u001b[0m\u001b[0;34m,\u001b[0m \u001b[0mdevice_grads\u001b[0m\u001b[0;34m,\u001b[0m \u001b[0;36m1\u001b[0m \u001b[0;34m-\u001b[0m \u001b[0mbeta1\u001b[0m\u001b[0;34m)\u001b[0m\u001b[0;34m\u001b[0m\u001b[0;34m\u001b[0m\u001b[0m\n\u001b[0m\u001b[1;32m    550\u001b[0m \u001b[0;34m\u001b[0m\u001b[0m\n\u001b[1;32m    551\u001b[0m         \u001b[0mtorch\u001b[0m\u001b[0;34m.\u001b[0m\u001b[0m_foreach_mul_\u001b[0m\u001b[0;34m(\u001b[0m\u001b[0mdevice_exp_avg_sqs\u001b[0m\u001b[0;34m,\u001b[0m \u001b[0mbeta2\u001b[0m\u001b[0;34m)\u001b[0m\u001b[0;34m\u001b[0m\u001b[0;34m\u001b[0m\u001b[0m\n",
            "\u001b[0;31mKeyboardInterrupt\u001b[0m: "
          ]
        },
        {
          "output_type": "display_data",
          "data": {
            "text/plain": [
              "<Figure size 640x480 with 1 Axes>"
            ],
            "image/png": "[encoded data removed]"
          },
          "metadata": {}
        }
      ]
    },
    {
      "cell_type": "code",
      "source": [
        "MSP_dev_set = CreateMSPDataset(\"./Dev_MSP/\", 1000)\n",
        "print(MSP_accuracy(model,1000))"
      ],
      "metadata": {
        "id": "T25PIs8SyaWS",
        "outputId": "603bd373-beeb-4232-e0b1-d3795f46efc6",
        "colab": {
          "base_uri": "https://localhost:8080/"
        }
      },
      "execution_count": 8,
      "outputs": [
        {
          "output_type": "stream",
          "name": "stdout",
          "text": [
            "0.37\n"
          ]
        }
      ]
    }
  ]
}