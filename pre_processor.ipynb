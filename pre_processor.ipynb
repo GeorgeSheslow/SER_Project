{
 "cells": [
  {
   "cell_type": "markdown",
   "metadata": {},
   "source": [
    "Prepare MSP dataset for Task 1:\n",
    "\n",
    "Using the MSP Podcast data, the audio has been split up into training and dev sets\n",
    "\n",
    "The Classifier only needs to identify 8 primary emotions: Angry (A), Sad (S), Happy (H), Surprise (U), Fear (F), Disgust (D), Contempt (C), Neutral (N)\n",
    "\n",
    "The dataset has been smplified and samples labeled as Other (O) or No agreement (X) when there is no plurality voting winner between the above emotions have been removed from the dev and training set folders"
   ]
  },
  {
   "cell_type": "code",
   "execution_count": null,
   "metadata": {},
   "outputs": [],
   "source": [
    "! tar -xvzf ./Audios.tar.gz \n",
    "! unzip ./Labels.zip"
   ]
  },
  {
   "cell_type": "code",
   "execution_count": null,
   "metadata": {},
   "outputs": [],
   "source": [
    "import os\n",
    "import csv\n",
    "audio_files = os.listdir(\"./Audios/\")\n",
    "print(len(audio_files))\n",
    "\n",
    "file_path = \"./Labels/labels_consensus.csv\"\n",
    "\n",
    "# Open the CSV file\n",
    "with open(file_path, mode='r', newline='') as file:\n",
    "    csv_reader = csv.reader(file)\n",
    "    next(csv_reader)\n",
    "    # Iterate over each line in the CSV file\n",
    "    for row in csv_reader:\n",
    "        if(row[1] == \"O\" or row[1] == \"X\" or row[7] == \"Train\"):\n",
    "            pass\n",
    "        else:\n",
    "            # ['FileName', 'EmoClass', 'EmoAct', 'EmoVal', 'EmoDom', 'SpkrID', 'Gender', 'Split_Set']\n",
    "            filename = row[0]\n",
    "            emotion = row[1]\n",
    "            ID = row[5]\n",
    "            gender = \"M\" if row[6] == \"Male\" else \"F\"\n",
    "            new_name = filename.split(\".\")[0] + \"-\" + emotion + \"-\" + ID + \"-\" + gender + \".wav\"\n",
    "            os.rename(\"./Audios/\"+filename, \"./Dev_MSP/\"+new_name)\n"
   ]
  },
  {
   "cell_type": "code",
   "execution_count": null,
   "metadata": {},
   "outputs": [],
   "source": [
    "# check \n",
    "files = os.listdir(\"./Dev_MSP\")\n",
    "print(len(files))"
   ]
  },
  {
   "cell_type": "code",
   "execution_count": null,
   "metadata": {},
   "outputs": [],
   "source": [
    "import os\n",
    "import csv\n",
    "audio_files = os.listdir(\"./Audios/\")\n",
    "print(len(audio_files))\n",
    "\n",
    "\n",
    "file_path = \"./Labels/labels_consensus.csv\"\n",
    "\n",
    "# Open the CSV file\n",
    "with open(file_path, mode='r', newline='') as file:\n",
    "    csv_reader = csv.reader(file)\n",
    "    next(csv_reader)\n",
    "    # Iterate over each line in the CSV file\n",
    "    for row in csv_reader:\n",
    "        if(row[1] == \"O\" or row[1] == \"X\" or row[7] == \"Development\"):\n",
    "            pass\n",
    "        else:\n",
    "            # ['FileName', 'EmoClass', 'EmoAct', 'EmoVal', 'EmoDom', 'SpkrID', 'Gender', 'Split_Set']\n",
    "            filename = row[0]\n",
    "            emotion = row[1]\n",
    "            ID = row[5]\n",
    "            gender = \"M\" if row[6] == \"Male\" else \"F\"\n",
    "            new_name = filename.split(\".\")[0] + \"-\" + emotion + \"-\" + ID + \"-\" + gender + \".wav\"\n",
    "            os.rename(\"./Audios/\"+filename, \"./Train_MSP/\"+new_name)\n"
   ]
  },
  {
   "cell_type": "code",
   "execution_count": null,
   "metadata": {},
   "outputs": [],
   "source": [
    "# check \n",
    "files = os.listdir(\"./Train_MSP\")\n",
    "print(len(files))"
   ]
  }
 ],
 "metadata": {
  "kernelspec": {
   "display_name": "base",
   "language": "python",
   "name": "python3"
  },
  "language_info": {
   "codemirror_mode": {
    "name": "ipython",
    "version": 3
   },
   "file_extension": ".py",
   "mimetype": "text/x-python",
   "name": "python",
   "nbconvert_exporter": "python",
   "pygments_lexer": "ipython3",
   "version": "3.8.5"
  }
 },
 "nbformat": 4,
 "nbformat_minor": 2
}
